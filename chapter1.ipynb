{
 "cells": [
  {
   "cell_type": "code",
   "execution_count": null,
   "metadata": {},
   "outputs": [],
   "source": [
    "# plt.show()で可視化されない人はこのセルを実行してください。\n",
    "%matplotlib inline"
   ]
  },
  {
   "cell_type": "markdown",
   "metadata": {
    "config": [
     "Web",
     "Tutor"
    ]
   },
   "source": [
    "# データセットを取得したい時は以下を実行"
   ]
  },
  {
   "cell_type": "code",
   "execution_count": null,
   "metadata": {
    "config": [
     "Web",
     "Tutor"
    ]
   },
   "outputs": [],
   "source": [
    "!python3 ../distribute_tools/dl_fortutor.py || python ../distribute_tools/dl_fortutor.py"
   ]
  },
  {
   "cell_type": "markdown",
   "metadata": {
    "chapterId": "BJjluCQZg-f",
    "type": "chapter_name"
   },
   "source": [
    "# lambdaやmapなどの便利なPython記法"
   ]
  },
  {
   "cell_type": "markdown",
   "metadata": {
    "type": "table"
   },
   "source": [
    "- **[1.1 lambda式の基礎](#1.1-lambda式の基礎)**\n",
    "    - **[1.1.1 無名関数の作成](#1.1.1-無名関数の作成)**\n",
    "    - **[1.1.2 lambdaによる計算](#1.1.2-lambdaによる計算)**\n",
    "    - **[1.1.3 ifを用いたlambda](#1.1.3-ifを用いたlambda)**\n",
    "<br><br>\n",
    "- **[1.2 lambda式の利用](#1.2-lambda式の利用)**\n",
    "    - **[1.2.1 listの分割（split）](#1.2.1-listの分割（split）)**\n",
    "    - **[1.2.2 listの分割（re.split）](#1.2.2-listの分割（re.split）)**\n",
    "    - **[1.2.3 高階関数（map）](#1.2.3-高階関数（map）)**\n",
    "    - **[1.2.4 filter](#1.2.4-filter)**\n",
    "    - **[1.2.5 sorted](#1.2.5-sorted)**\n",
    "<br><br>\n",
    "- **[1.3 リスト内包表記](#1.3-リスト内包表記)**\n",
    "    - **[1.3.1 リストの生成](#1.3.1-リストの生成)**\n",
    "    - **[1.3.2 if文を用いたループ](#1.3.2-if文を用いたループ)**\n",
    "    - **[1.3.3 複数配列の同時ループ](#1.3.3-複数配列の同時ループ)**\n",
    "    - **[1.3.4 多重ループ](#1.3.4-多重ループ)**\n",
    "<br><br>\n",
    "- **[1.4 辞書オブジェクト](#1.4-辞書オブジェクト)**\n",
    "    - **[1.4.1 defaultdict](#1.4.1-defaultdict)**\n",
    "    - **[1.4.2 value内の要素の追加](#1.4.2-value内の要素の追加)**\n",
    "    - **[1.4.3 Counter](#1.4.3-Counter)**\n",
    "<br><br>\n",
    "- **[1.5 まとめ問題(提出不要)](#1.5-まとめ問題(提出不要))**"
   ]
  },
  {
   "cell_type": "markdown",
   "metadata": {},
   "source": [
    "***"
   ]
  },
  {
   "cell_type": "markdown",
   "metadata": {
    "type": "section_name",
    "sectionId": "rJneOCmZlZM"
   },
   "source": [
    "## 1.1 lambda式の基礎"
   ]
  },
  {
   "cell_type": "markdown",
   "metadata": {
    "courseId": 4050,
    "exerciseId": "H1x8FnUjUeG",
    "type": "code_session_name",
    "important": true,
    "isDL": false,
    "timeoutSecs": 5
   },
   "source": [
    "### 1.1.1 無名関数の作成"
   ]
  },
  {
   "cell_type": "markdown",
   "metadata": {
    "type": "description"
   },
   "source": [
    "Pythonで関数を作成する際には以下のように定義します。\n",
    "```Python\n",
    "# 例: x^2を出力する関数 pow1(x)\n",
    "def pow1(x):\n",
    "    return x ** 2 \n",
    "```\n",
    "ここで <b style=\"color: #A00;\">無名関数（lambda式（ラムダ式））</b> を用いるとコードを簡素化することができます。\n",
    "```Python\n",
    "# pow1(x)と同じ働きを持つ無名関数 pow2\n",
    "pow2 = lambda x: x ** 2\n",
    "```\n",
    "lambda式を用いることで、式を`pow2`という <b>変数</b> に格納できます。\n",
    "***\n",
    "lambda式の構造は以下のようになっており、上記の`pow2`には引数`x`を`x**2`にして返すことを意味しています。\n",
    "```Python\n",
    "lambda 引数: 返り値\n",
    "```\n",
    "lambda式に引数を渡して実際に計算する場合は以下のように指定するだけで、`def`で作成した関数と同じように使用できます。\n",
    "```Python\n",
    "# pow2 に引数 a を渡して、計算結果を b に格納する\n",
    "b = pow2(a)\n",
    "```"
   ]
  },
  {
   "cell_type": "markdown",
   "metadata": {},
   "source": [
    "#### 問題"
   ]
  },
  {
   "cell_type": "markdown",
   "metadata": {
    "type": "question"
   },
   "source": [
    "引数 $a$ に対する以下の関数を作成し、$a=4$ の際の返り値をそれぞれ出力して下さい。\n",
    "- `def` を用いて $2a^2 - 3a + 1$ を出力する関数 `func1`\n",
    "- `lambda` を用いて $2a^2 - 3a + 1$ を出力する関数 `func2`"
   ]
  },
  {
   "cell_type": "code",
   "execution_count": null,
   "metadata": {
    "type": "index"
   },
   "outputs": [],
   "source": [
    "# 代入する引数a\n",
    "a = 4\n",
    "\n",
    "# defを用いてfunc1を作成して下さい\n",
    "\n",
    "\n",
    "\n",
    "# lambdaを用いてfunc2を作成して下さい\n",
    "\n",
    "\n",
    "# 返り値の出力\n",
    "print(func1(a))\n",
    "print(func2(a))"
   ]
  },
  {
   "cell_type": "markdown",
   "metadata": {},
   "source": [
    "#### ヒント"
   ]
  },
  {
   "cell_type": "markdown",
   "metadata": {
    "type": "hint"
   },
   "source": [
    "```Python\n",
    "def function(引数):\n",
    "    return 返り値\n",
    "\n",
    "function = lambda 引数: 返り値\n",
    "```"
   ]
  },
  {
   "cell_type": "markdown",
   "metadata": {},
   "source": [
    "#### 解答例"
   ]
  },
  {
   "cell_type": "code",
   "execution_count": null,
   "metadata": {
    "type": "answer"
   },
   "outputs": [],
   "source": [
    "# 代入する引数a\n",
    "a = 4\n",
    "\n",
    "# defを用いてfunc1を作成して下さい\n",
    "def func1(x):\n",
    "    return 2 * x**2 - 3*x + 1\n",
    "\n",
    "# lambdaを用いてfunc2を作成して下さい\n",
    "func2 = lambda x: 2 * x**2 - 3*x + 1\n",
    "\n",
    "# 返り値の出力\n",
    "print(func1(a))\n",
    "print(func2(a))"
   ]
  },
  {
   "cell_type": "code",
   "execution_count": null,
   "metadata": {
    "type": "sct"
   },
   "outputs": [],
   "source": [
    "index_code_contains(\"def\", failure_msg=\"defを用いてください。\")\n",
    "index_code_contains(\"lambda\", failure_msg=\"lambda式を用いてください。\")\n",
    "index_code_not_contains(\"21\", failure_msg=\"値ではなく関数を返してください\")\n",
    "index_output_contains(\"21\\n21\", failure_msg=\"出力結果が間違っています。\")\n",
    "check_output_match(failure_msg=\"出力結果が間違っています。\")\n",
    "execute_index()"
   ]
  },
  {
   "cell_type": "markdown",
   "metadata": {},
   "source": [
    "***"
   ]
  },
  {
   "cell_type": "markdown",
   "metadata": {
    "courseId": 4050,
    "exerciseId": "rk-IFnLiLeG",
    "type": "code_session_name",
    "important": true,
    "isDL": false,
    "timeoutSecs": 5
   },
   "source": [
    "### 1.1.2 lambdaによる計算"
   ]
  },
  {
   "cell_type": "markdown",
   "metadata": {
    "type": "description"
   },
   "source": [
    "lambda式で多変数の関数を作成したい場合は、以下のように記述します。\n",
    "```Python\n",
    "# 例: ２つの引数を足し合わせる関数 add1\n",
    "add1 = lambda x, y: x + y\n",
    "```\n",
    "lambda式は <a href='/courses/4050/exercises/H1x8FnUjUeG' target='_blank'>1.1.1 無名関数の作成</a> で説明したように変数に格納できますが、変数に格納しなくても使用できます。例えば、上記`add1`のlambda式に２つの引数`3, 5`を代入した結果を直接得たければ、以下のように記述します。\n",
    "```Python\n",
    "(lambda x, y: x + y)(3, 5)\n",
    "```\n",
    "```Python\n",
    "# 出力結果\n",
    "8\n",
    "```\n",
    "\n",
    "上記の例では手間が増えただけですが、「変数に格納する」=<b>「関数に名前を付けて定義する」</b> 必要がないことは、関数の利用を非常に簡便にします。"
   ]
  },
  {
   "cell_type": "markdown",
   "metadata": {},
   "source": [
    "#### 問題"
   ]
  },
  {
   "cell_type": "markdown",
   "metadata": {
    "type": "question"
   },
   "source": [
    "引数 $(x, y, z)$ に対する以下の関数を作成し、$(x, y, z)=(5, 6, 2)$ の際の返り値をそれぞれ出力して下さい。\n",
    "- `def` を用いて $xy + z$ を出力する関数 `func3`\n",
    "- `lambda` を用いて $xy + z$ を出力する関数 `func4`"
   ]
  },
  {
   "cell_type": "code",
   "execution_count": null,
   "metadata": {
    "type": "index"
   },
   "outputs": [],
   "source": [
    "# 代入する引数x, y, z\n",
    "x = 5\n",
    "y = 6\n",
    "z = 2\n",
    "\n",
    "# defを用いてfunc3を作成して下さい\n",
    "\n",
    "\n",
    "\n",
    "# lambdaを用いてfunc4を作成して下さい\n",
    "\n",
    "\n",
    "# 出力\n",
    "print(func3(x, y, z))\n",
    "print(func4(x, y, z))"
   ]
  },
  {
   "cell_type": "markdown",
   "metadata": {},
   "source": [
    "#### ヒント"
   ]
  },
  {
   "cell_type": "markdown",
   "metadata": {
    "type": "hint"
   },
   "source": [
    "```Python\n",
    "lambda 引数１, 引数２, 引数３, … : 返り値\n",
    "```"
   ]
  },
  {
   "cell_type": "markdown",
   "metadata": {},
   "source": [
    "#### 解答例"
   ]
  },
  {
   "cell_type": "code",
   "execution_count": null,
   "metadata": {
    "type": "answer"
   },
   "outputs": [],
   "source": [
    "# 代入する引数x, y, z\n",
    "x = 5\n",
    "y = 6\n",
    "z = 2\n",
    "\n",
    "# defを用いてfunc3を作成して下さい\n",
    "def func3(x, y, z):\n",
    "    return x*y + z\n",
    "\n",
    "# lambdaを用いてfunc4を作成して下さい\n",
    "func4 = lambda x, y, z: x*y + z\n",
    "\n",
    "# 出力\n",
    "print(func3(x, y, z))\n",
    "print(func4(x, y, z))"
   ]
  },
  {
   "cell_type": "code",
   "execution_count": null,
   "metadata": {
    "type": "sct"
   },
   "outputs": [],
   "source": [
    "index_code_contains(\"def\", failure_msg=\"defを用いてください。\")\n",
    "index_code_contains(\"lambda\", failure_msg=\"lambda式を用いてください。\")\n",
    "index_code_contains(\"return\", failure_msg=\"returnを用いてください。\")\n",
    "index_code_not_contains(\"32\", failure_msg=\"値ではなく関数を返してください\")\n",
    "check_output_match(failure_msg=\"出力結果が間違っています。\")\n",
    "execute_index()"
   ]
  },
  {
   "cell_type": "markdown",
   "metadata": {},
   "source": [
    "***"
   ]
  },
  {
   "cell_type": "markdown",
   "metadata": {
    "courseId": 4050,
    "exerciseId": "S1MLF2LoUgz",
    "type": "code_session_name",
    "important": true,
    "isDL": false,
    "timeoutSecs": 5
   },
   "source": [
    "### 1.1.3 ifを用いたlambda"
   ]
  },
  {
   "cell_type": "markdown",
   "metadata": {
    "type": "description"
   },
   "source": [
    "lambdaはdefによる関数と異なり、返り値の部分には式以外を指定することができません。<br>\n",
    "例えばdefによる関数では以下のような処理が可能でしたが、これをlambdaで表現することはできません。\n",
    "```Python\n",
    "# \"hello.\"と出力する関数\n",
    "def say_hello():\n",
    "    print(\"hello.\")\n",
    "```\n",
    "ただし、ifを用いた条件分岐に関しては三項演算子（条件演算子）という手法を用いてlambdaで作成できます。\n",
    "```Python\n",
    "# 引数xが3未満ならば2を掛け、3以上ならば3で割って5を足す関数\n",
    "def lower_three1(x):\n",
    "    if x < 3:\n",
    "        return x * 2\n",
    "    else:\n",
    "        return x/3 + 5\n",
    "```\n",
    "上記の関数をlambdaで表現すると、このようになります。\n",
    "```Python\n",
    "# lower_three1と同じ関数\n",
    "lower_three2 = lambda x: x * 2 if x < 3 else x/3 + 5\n",
    "```\n",
    "三項演算子の表記は以下の通りです。\n",
    "```Python\n",
    "条件を満たす時の処理 if 条件 else 条件を満たさない時の処理\n",
    "```\n",
    "このように、三項演算子を使用するとlambda以外にも様々な場面でコードの行数を節約することができます。"
   ]
  },
  {
   "cell_type": "markdown",
   "metadata": {},
   "source": [
    "#### 問題"
   ]
  },
  {
   "cell_type": "markdown",
   "metadata": {
    "type": "question"
   },
   "source": [
    "lambdaを用いて以下の関数を作成し、引数$a$に対する返り値を出力して下さい。\n",
    "- $a$が10以上30未満ならば$a^2 - 40a + 350$を、それ以外なら$50$を返す関数`func5`"
   ]
  },
  {
   "cell_type": "code",
   "execution_count": null,
   "metadata": {
    "type": "index"
   },
   "outputs": [],
   "source": [
    "# 代入する引数a1, a2\n",
    "a1 = 13\n",
    "a2 = 32\n",
    "\n",
    "# lambdaを用いてfunc5を作成して下さい\n",
    "\n",
    "\n",
    "# 返り値の出力\n",
    "print(func5(a1))\n",
    "print(func5(a2))"
   ]
  },
  {
   "cell_type": "markdown",
   "metadata": {},
   "source": [
    "#### ヒント"
   ]
  },
  {
   "cell_type": "markdown",
   "metadata": {
    "type": "hint"
   },
   "source": [
    "- 三項演算子を使います。\n",
    "```Python\n",
    "    func = lambda 引数 : 条件を満たす時の処理 if 条件 else 条件を満たさない時の処理\n",
    "```"
   ]
  },
  {
   "cell_type": "markdown",
   "metadata": {},
   "source": [
    "#### 解答例"
   ]
  },
  {
   "cell_type": "code",
   "execution_count": null,
   "metadata": {
    "type": "answer"
   },
   "outputs": [],
   "source": [
    "# 代入する引数a1, a2\n",
    "a1 = 13\n",
    "a2 = 32\n",
    "\n",
    "# lambdaを用いてfunc5を作成して下さい\n",
    "func5 = lambda x: x**2 - 40*x + 350 if x >= 10 and x < 30 else 50\n",
    "\n",
    "# 返り値の出力\n",
    "print(func5(a1))\n",
    "print(func5(a2))"
   ]
  },
  {
   "cell_type": "code",
   "execution_count": null,
   "metadata": {
    "type": "sct",
    "scrolled": true
   },
   "outputs": [],
   "source": [
    "index_code_contains(\"lambda\", failure_msg=\"lambda式を用いてください。\")\n",
    "check_output_match(failure_msg=\"出力結果が間違っています。\")\n",
    "execute_index()"
   ]
  },
  {
   "cell_type": "markdown",
   "metadata": {},
   "source": [
    "***"
   ]
  },
  {
   "cell_type": "markdown",
   "metadata": {
    "type": "section_name",
    "sectionId": "BJTl_RX-ebf"
   },
   "source": [
    "## 1.2 lambda式の利用"
   ]
  },
  {
   "cell_type": "markdown",
   "metadata": {
    "courseId": 4050,
    "exerciseId": "Hy7IYnIoLlz",
    "type": "code_session_name",
    "important": true,
    "isDL": false,
    "timeoutSecs": 5
   },
   "source": [
    "### 1.2.1 listの分割（split）"
   ]
  },
  {
   "cell_type": "markdown",
   "metadata": {
    "type": "description"
   },
   "source": [
    "文字列を空白やスラッシュなどで分割したい場合、<b style='color: #AA0000'>split()</b>関数を用います。`split()`関数で分割された文字列はリスト型で返されます。<br>\n",
    "```Python\n",
    "分割したい文字列.split(\"区切る記号\", 分割回数)\n",
    "```\n",
    "例えば英文を空白で分割して単語のリストにすることができます。\n",
    "```Python\n",
    "# 分割したい文字列\n",
    "test_sentence = \"this is a test sentence.\"\n",
    "# splitでリストにする\n",
    "test_sentence.split(\" \")\n",
    "```\n",
    "```Python\n",
    "# 出力結果\n",
    "['this', 'is', 'a', 'test', 'sentence.']\n",
    "```\n",
    "***\n",
    "引数に分割回数を指定すると、先頭から指定した回数で文字列を分割します。指定した回数を超えるとそれ以上は分割しません。\n",
    "```Python\n",
    "# 分割したい文字列\n",
    "test_sentence = \"this/is/a/test/sentence.\"\n",
    "# splitでリストにする\n",
    "test_sentence.split(\"/\", 3)\n",
    "```\n",
    "```Python\n",
    "# 出力結果\n",
    "['this', 'is', 'a', 'test/sentence.']\n",
    "```"
   ]
  },
  {
   "cell_type": "markdown",
   "metadata": {},
   "source": [
    "#### 問題"
   ]
  },
  {
   "cell_type": "markdown",
   "metadata": {
    "type": "question"
   },
   "source": [
    "- `\"My name is ○○\"` という構造を持っている文字列`self_data`を切り分け各単語を格納したリスト`word_list`を作成し、 `\"○○\"` の部分を抜き出して出力して下さい。"
   ]
  },
  {
   "cell_type": "code",
   "execution_count": null,
   "metadata": {
    "type": "index"
   },
   "outputs": [],
   "source": [
    "# 自己紹介文が入っている文字列self_data\n",
    "self_data = \"My name is Yamada\"\n",
    "\n",
    "# self_dataを分割して、word_listを作成してください。\n",
    "\n",
    "\n",
    "# \"○○\"の部分を出力して下さい。\n"
   ]
  },
  {
   "cell_type": "markdown",
   "metadata": {},
   "source": [
    "#### ヒント"
   ]
  },
  {
   "cell_type": "markdown",
   "metadata": {
    "type": "hint"
   },
   "source": [
    "- 文字列を空白で分割するには、`split()`関数を用います。\n",
    "- `split()`関数で分割された文字列は`リスト型`で返されます。"
   ]
  },
  {
   "cell_type": "markdown",
   "metadata": {},
   "source": [
    "#### 解答例"
   ]
  },
  {
   "cell_type": "code",
   "execution_count": null,
   "metadata": {
    "type": "answer"
   },
   "outputs": [],
   "source": [
    "# 自己紹介文が入っている文字列self_data\n",
    "self_data = \"My name is Yamada\"\n",
    "\n",
    "# self_dataを分割して、word_listを作成してください。\n",
    "word_list = self_data.split(\" \")\n",
    "\n",
    "# \"○○\"の部分を出力して下さい。\n",
    "print(word_list[3])"
   ]
  },
  {
   "cell_type": "code",
   "execution_count": null,
   "metadata": {
    "type": "sct",
    "scrolled": true
   },
   "outputs": [],
   "source": [
    "index_code_contains(\".split\", failure_msg=\"splitを用いましょう\")\n",
    "index_code_not_contains(\"'Yamada'\", failure_msg=\"splitを用いましょう\")\n",
    "check_output_match(failure_msg=\"出力結果が間違っています。\")\n",
    "execute_index()"
   ]
  },
  {
   "cell_type": "code",
   "execution_count": null,
   "metadata": {},
   "outputs": [],
   "source": []
  },
  {
   "cell_type": "markdown",
   "metadata": {
    "courseId": 4050,
    "exerciseId": "B1sWMjqgz",
    "heading_collapsed": true,
    "type": "code_session_name",
    "important": false,
    "isDL": false,
    "timeoutSecs": 5
   },
   "source": [
    "### 1.2.2 listの分割（re.split）"
   ]
  },
  {
   "cell_type": "markdown",
   "metadata": {
    "hidden": true,
    "type": "description"
   },
   "source": [
    "標準の`split()`関数は一度に複数の記号で分割することができません。一度に複数の記号で文字列を分割するには`re`モジュールの<b style='color: #AA0000'>re.split()</b>関数を用います。<br>\n",
    "`re.split()`関数は[区切る記号]の[ ]内に複数の記号を指定することで、一度に複数の記号で分割することが可能です。\n",
    "```Python\n",
    "re.split(\"[区切る記号]\", 分割したい文字列)\n",
    "```\n",
    "***\n",
    "```Python\n",
    "# reモジュールのインポート\n",
    "import re\n",
    "# 分割したい文字列\n",
    "test_sentence = \"this,is a.test,sentence\"\n",
    "# \",\"と\" \"と\".\"で分割して、リストにする\n",
    "re.split(\"[, .]\", test_sentence)\n",
    "```\n",
    "```Python\n",
    "# 出力結果\n",
    "['this', 'is', 'a', 'test', 'sentence']\n",
    "```"
   ]
  },
  {
   "cell_type": "markdown",
   "metadata": {
    "hidden": true
   },
   "source": [
    "#### 問題"
   ]
  },
  {
   "cell_type": "markdown",
   "metadata": {
    "hidden": true,
    "type": "question"
   },
   "source": [
    "- `re`モジュールをインポートして下さい。\n",
    "- `\"年/月/日_時:分\"`という構造を持っている文字列`time_data`を切り分け、\"月\"の部分と\"時\"の部分を抜き出して出力して下さい。"
   ]
  },
  {
   "cell_type": "code",
   "execution_count": null,
   "metadata": {
    "hidden": true,
    "type": "index"
   },
   "outputs": [],
   "source": [
    "# reモジュールのインポート\n",
    "\n",
    "# 時間データが入っている文字列time_data\n",
    "time_data = \"2017/4/1_22:15\"\n",
    "\n",
    "# time_dataを分割して、listを作成して下さい。\n",
    "\n",
    "\n",
    "# \"月\"の部分を出力して下さい。\n",
    "\n",
    "# \"時\"の部分を出力して下さい。\n"
   ]
  },
  {
   "cell_type": "markdown",
   "metadata": {
    "hidden": true
   },
   "source": [
    "#### ヒント"
   ]
  },
  {
   "cell_type": "markdown",
   "metadata": {
    "hidden": true,
    "type": "hint"
   },
   "source": [
    "- 文字列を複数の区切り記号で分割するには、`re.split()`関数を用います。\n",
    "- `re.split()`関数で分割された文字列は`リスト型`で返されます。"
   ]
  },
  {
   "cell_type": "markdown",
   "metadata": {
    "hidden": true
   },
   "source": [
    "#### 解答例"
   ]
  },
  {
   "cell_type": "code",
   "execution_count": null,
   "metadata": {
    "hidden": true,
    "type": "answer"
   },
   "outputs": [],
   "source": [
    "# reモジュールのインポート\n",
    "import re\n",
    "# 時間データが入っている文字列time_data\n",
    "time_data = \"2017/4/1_22:15\"\n",
    "\n",
    "# time_dataを分割して、listを作成して下さい。\n",
    "time_list = re.split(\"[/_:]\", time_data)\n",
    "\n",
    "# \"月\"の部分を出力して下さい。\n",
    "print(time_list[1])\n",
    "# \"時\"の部分を出力して下さい。\n",
    "print(time_list[3])"
   ]
  },
  {
   "cell_type": "code",
   "execution_count": null,
   "metadata": {
    "hidden": true,
    "type": "sct"
   },
   "outputs": [],
   "source": [
    "index_code_contains(\"re\\.split\", failure_msg=\"re.splitを用いましょう\")\n",
    "check_output_match(failure_msg=\"出力結果が間違っています。\")\n",
    "execute_index()"
   ]
  },
  {
   "cell_type": "markdown",
   "metadata": {
    "hidden": true
   },
   "source": [
    "***"
   ]
  },
  {
   "cell_type": "markdown",
   "metadata": {
    "courseId": 4050,
    "exerciseId": "HJVLK38oLlM",
    "type": "code_session_name",
    "important": true,
    "isDL": false,
    "timeoutSecs": 5
   },
   "source": [
    "### 1.2.3 高階関数（map）"
   ]
  },
  {
   "cell_type": "markdown",
   "metadata": {
    "type": "description"
   },
   "source": [
    "Pythonには、他の関数を引数とする関数があります。そのような関数を <b style='color: #AA0000'>高階関数</b>と呼びます。<br>\n",
    "`list`の各要素に関数を適用したい場合は、`map()`関数を用います。<br>\n",
    "```Python\n",
    "# イテレータ(計算の方法を格納)を返す 計算は行わない\n",
    "map(適用したい関数, 配列)\n",
    "\n",
    "# 計算結果をlist に返す\n",
    "list(map(関数, 配列))\n",
    "```\n",
    "イテレータとは複数の要素を順番に取り出す機能をもったクラスを指します。この、要素を順番に取り出す機能を使うことで`for`ループを用いるよりも実行時間を短くすることができるので、膨大な要素を持つ配列に関数を適用したい場合には<b style='color: #AA0000'>map()</b>関数を用います。<br>\n",
    "<br>\n",
    "例えば`a = [1, -2, 3, -4, 5]`という配列の各要素の絶対値を得るには`for`ループを用いると以下のように書きます。\n",
    "```Python\n",
    "a = [1, -2, 3, -4, 5]\n",
    "# forループで関数適用\n",
    "new = []\n",
    "for x in a:\n",
    "    new.append(abs(x))\n",
    "print(new)\n",
    "```\n",
    "```Python\n",
    "# 出力結果\n",
    "[1, 2, 3, 4, 5]\n",
    "```\n",
    "これを`map()`関数を用いると、以下のように簡潔に書くことが可能です。\n",
    "```Python\n",
    "a = [1, -2, 3, -4, 5]\n",
    "# mapで関数適用\n",
    "list(map(abs, a))\n",
    "```\n",
    "```Python\n",
    "# 出力結果\n",
    "[1, 2, 3, 4, 5]\n",
    "```\n",
    "`list()`関数で囲むことにより、 `map()`関数の適用結果（上の例では abs を適用した結果）を再度リストに格納することができます。<br>\n",
    "この際、変数名で単純に `list = ` としてしまうと、`list()`関数を呼び出すつもりが、変数`list`に値を格納しており、エラーになるので注意が必要です。"
   ]
  },
  {
   "cell_type": "markdown",
   "metadata": {},
   "source": [
    "#### 問題"
   ]
  },
  {
   "cell_type": "markdown",
   "metadata": {
    "type": "question"
   },
   "source": [
    "- `\"年/月/日_時:分\"`という構造を持っている文字列を要素に持つ配列`time_list`を切り分ける関数を作成し、\"時\"の部分を整数として配列にまとめて出力して下さい。関数名や配列名は任意とします。"
   ]
  },
  {
   "cell_type": "code",
   "execution_count": null,
   "metadata": {
    "type": "index"
   },
   "outputs": [],
   "source": [
    "import re\n",
    "# 配列time_list\n",
    "time_list = [\n",
    "    \"2006/11/26_2:40\",\n",
    "    \"2009/1/16_23:35\",\n",
    "    \"2014/5/4_14:26\",\n",
    "    \"2017/8/9_7:5\",\n",
    "    \"2017/4/1_22:15\"\n",
    "]\n",
    "# 文字列から\"時\"を取り出す関数を作成して下さい\n",
    "\n",
    "\n",
    "# 上で作った関数を用いて各要素の\"時\"を取り出し、配列にして下さい\n",
    "\n",
    "\n",
    "# 配列を出力して下さい\n"
   ]
  },
  {
   "cell_type": "markdown",
   "metadata": {},
   "source": [
    "#### ヒント"
   ]
  },
  {
   "cell_type": "markdown",
   "metadata": {
    "type": "hint"
   },
   "source": [
    "- 文字列から`\"時\"`を取り出す関数は **listの分割（re.split()関数）**を用います。\n",
    "```Python\n",
    "re.split(\"[区切る記号]\", 分割したい文字列)\n",
    "```\n",
    "- 取り出しただけではデータ型は文字列のままですので、`int()`関数を用いて型を変換します。\n",
    "- 計算結果をlistに返します。\n",
    "```Python\n",
    "list(map(関数, 配列))\n",
    "```"
   ]
  },
  {
   "cell_type": "markdown",
   "metadata": {},
   "source": [
    "#### 解答例"
   ]
  },
  {
   "cell_type": "code",
   "execution_count": null,
   "metadata": {
    "type": "answer"
   },
   "outputs": [],
   "source": [
    "import re\n",
    "# 配列time_list\n",
    "time_list = [\n",
    "    \"2006/11/26_2:40\",\n",
    "    \"2009/1/16_23:35\",\n",
    "    \"2014/5/4_14:26\",\n",
    "    \"2017/8/9_7:5\",\n",
    "    \"2017/4/1_22:15\"\n",
    "]\n",
    "# 文字列から\"時\"を取り出す関数を作成して下さい\n",
    "get_hour = lambda x: int(re.split(\"[/_:]\", x)[3]) # int()でstring型をint型に変換する\n",
    "\n",
    "# 上で作った関数を用いて各要素の\"時\"を取り出し、配列にして下さい\n",
    "hour_list = list(map(get_hour, time_list))\n",
    "\n",
    "# 配列を出力して下さい\n",
    "print(hour_list)"
   ]
  },
  {
   "cell_type": "code",
   "execution_count": null,
   "metadata": {
    "type": "sct",
    "scrolled": true
   },
   "outputs": [],
   "source": [
    "index_code_contains(\"re.split\", failure_msg=\"listの分割（re.split()関数）を用いてください\")\n",
    "index_code_contains(\"map\", failure_msg=\"map()関数を用いてください\")\n",
    "check_output_match(failure_msg=\"出力結果が間違っています。\")\n",
    "execute_index()"
   ]
  },
  {
   "cell_type": "markdown",
   "metadata": {},
   "source": [
    "***"
   ]
  },
  {
   "cell_type": "markdown",
   "metadata": {
    "courseId": 4050,
    "exerciseId": "BJr8FhIjIxG",
    "type": "code_session_name",
    "important": true,
    "isDL": false,
    "timeoutSecs": 5
   },
   "source": [
    "### 1.2.4 filter"
   ]
  },
  {
   "cell_type": "markdown",
   "metadata": {
    "type": "description"
   },
   "source": [
    "listの各要素から条件を満たす要素だけを取り出す場合は<b style='color: #AA0000'>filter()</b>関数を用います。\n",
    "```Python\n",
    "# イテレータを返す\n",
    "filter(条件となる関数, 配列)\n",
    "\n",
    "# 計算結果をlistに返す\n",
    "list(filter(関数, 配列))\n",
    "```\n",
    "<b>条件となる関数</b>とは、`lambda x: x>0` のように入力に対して`True/False`を返す関数のことをいいます。<br>\n",
    "<br>\n",
    "例えば`a = [1, -2, 3, -4, 5]`という配列から正の要素を得るには`for`ループを用いると以下のように書きます。\n",
    "```Python\n",
    "a = [1, -2, 3, -4, 5]\n",
    "# forループでフィルタリング\n",
    "new = []\n",
    "for x in a:\n",
    "    if x > 0:\n",
    "        new.append(x)\n",
    "print(new)\n",
    "```\n",
    "```Python\n",
    "# 出力結果\n",
    "[1, 3, 5]\n",
    "```\n",
    "これを`filter`用いると、以下のように簡潔に書くことが可能です。\n",
    "```Python\n",
    "a = [1, -2, 3, -4, 5]\n",
    "# filterでフィルタリング\n",
    "list(filter(lambda x: x>0, a))\n",
    "```\n",
    "```Python\n",
    "# 出力結果\n",
    "[1, 3, 5]\n",
    "```"
   ]
  },
  {
   "cell_type": "markdown",
   "metadata": {},
   "source": [
    "#### 問題"
   ]
  },
  {
   "cell_type": "markdown",
   "metadata": {
    "type": "question"
   },
   "source": [
    "- 配列`time_list`内の`\"月\"`が1〜6の要素を抜き出す関数を作成し、配列にして出力して下さい。関数名や配列名は任意とします。"
   ]
  },
  {
   "cell_type": "code",
   "execution_count": null,
   "metadata": {
    "type": "index"
   },
   "outputs": [],
   "source": [
    "import re\n",
    "# time_list...\"年/月/日_時:分\"\n",
    "time_list = [\n",
    "    \"2006/11/26_2:40\",\n",
    "    \"2009/1/16_23:35\",\n",
    "    \"2014/5/4_14:26\",\n",
    "    \"2017/8/9_7:5\",\n",
    "    \"2017/4/1_22:15\"\n",
    "]\n",
    "# 文字列の\"月\"が条件を満たすときにTrueを返す関数を作成して下さい\n",
    "\n",
    "\n",
    "# 上で作った関数を用いて条件を満たす要素を抜き出し、配列にして下さい\n",
    "\n",
    "\n",
    "# 配列を出力して下さい\n"
   ]
  },
  {
   "cell_type": "markdown",
   "metadata": {},
   "source": [
    "#### ヒント"
   ]
  },
  {
   "cell_type": "markdown",
   "metadata": {
    "type": "hint"
   },
   "source": [
    "- 文字列から`\"月\"`を取り出す関数は **listの分割（re.split()関数）**を用います。\n",
    "```Python\n",
    "re.split(\"[区切る記号]\", 分割したい文字列)\n",
    "```\n",
    "- 取り出しただけではデータ型は文字列のままですので、`int()`関数を用いて型を変換します。\n",
    "- 計算結果をlistに返します。\n",
    "```Python\n",
    "list(filter(関数, 配列))\n",
    "```"
   ]
  },
  {
   "cell_type": "markdown",
   "metadata": {},
   "source": [
    "#### 解答例"
   ]
  },
  {
   "cell_type": "code",
   "execution_count": null,
   "metadata": {
    "type": "answer"
   },
   "outputs": [],
   "source": [
    "import re\n",
    "# time_list...\"年/月/日_時:分\"\n",
    "time_list = [\n",
    "    \"2006/11/26_2:40\",\n",
    "    \"2009/1/16_23:35\",\n",
    "    \"2014/5/4_14:26\",\n",
    "    \"2017/8/9_7:5\",\n",
    "    \"2017/4/1_22:15\"\n",
    "]\n",
    "# 文字列の\"月\"が条件を満たすときにTrueを返す関数を作成して下さい\n",
    "is_first_half = lambda x: int(re.split(\"[/_:]\", x)[1]) < 7\n",
    "\n",
    "# 上で作った関数を用いて条件を満たす要素を抜き出し、配列にして下さい\n",
    "first_half_list = list(filter(is_first_half, time_list))\n",
    "\n",
    "# 配列を出力して下さい\n",
    "print(first_half_list)"
   ]
  },
  {
   "cell_type": "code",
   "execution_count": null,
   "metadata": {
    "type": "sct",
    "scrolled": true
   },
   "outputs": [],
   "source": [
    "index_code_contains(\"re.split\", failure_msg=\"listの分割（re.split()関数）を用いてください\")\n",
    "index_code_contains(\"filter\", failure_msg=\"filter()関数を用いてください\")\n",
    "check_output_match(failure_msg=\"出力結果が間違っています。\")\n",
    "execute_index()"
   ]
  },
  {
   "cell_type": "code",
   "execution_count": null,
   "metadata": {},
   "outputs": [],
   "source": []
  },
  {
   "cell_type": "markdown",
   "metadata": {
    "courseId": 4050,
    "exerciseId": "rJUIYh8iIez",
    "type": "code_session_name",
    "important": false,
    "isDL": false,
    "timeoutSecs": 5
   },
   "source": [
    "### 1.2.5 sorted"
   ]
  },
  {
   "cell_type": "markdown",
   "metadata": {
    "type": "description"
   },
   "source": [
    "`list`のソートには`sort()`関数がありますが、より複雑な条件でソートしたい場合は<b style='color: #AA0000'>sorted()</b>関数を用います。\n",
    "```Python\n",
    "# キーを設定してソート\n",
    "sorted(ソートしたい配列, key=キーとなる関数, reverse=True または False)\n",
    "```\n",
    "<b>キーとなる関数</b>にはどの要素を基準にソートを行うかを指定します。ここに`lambda x: x[n]`と指定することで第`n`要素を基準にソートを行います。`reverse`を`True`にすると降順にソートします。<br>\n",
    "<br>\n",
    "例えば要素数が2つの配列を要素に持つ配列(入れ子の配列)について、各要素の第2要素が昇順になるようにソートを行いたい場合は、以下のように書きます。\n",
    "```Python\n",
    "# 入れ子の配列\n",
    "nest_list = [\n",
    "    [0, 9],\n",
    "    [1, 8],\n",
    "    [2, 7],\n",
    "    [3, 6],\n",
    "    [4, 5]\n",
    "]\n",
    "# 第2要素をキーとしてソート\n",
    "sorted(nest_list, key=lambda x: x[1])\n",
    "```\n",
    "```Python\n",
    "# 出力結果\n",
    "[[4, 5], [3, 6], [2, 7], [1, 8], [0, 9]]\n",
    "```"
   ]
  },
  {
   "cell_type": "markdown",
   "metadata": {},
   "source": [
    "#### 問題"
   ]
  },
  {
   "cell_type": "markdown",
   "metadata": {
    "type": "question"
   },
   "source": [
    "- `\"時\"`の部分が昇順になるように配列`time_data`をソートし、出力して下さい。<br>\n",
    "配列`time_data`は前項の配列`time_list`を`[年, 月, 日, 時, 分]`に分割した配列です。"
   ]
  },
  {
   "cell_type": "code",
   "execution_count": null,
   "metadata": {
    "type": "index"
   },
   "outputs": [],
   "source": [
    "# time_data...[年, 月, 日, 時, 分]\n",
    "time_data = [\n",
    "    [2006, 11, 26,  2, 40],\n",
    "    [2009,  1, 16, 23, 35],\n",
    "    [2014,  5,  4, 14, 26],\n",
    "    [2017,  8,  9,  7,  5],\n",
    "    [2017,  4,  1, 22, 15]\n",
    "]\n",
    "# \"時\"をキーとしてソートし、配列にして下さい\n",
    "\n",
    "\n",
    "# ソートした配列を出力して下さい\n"
   ]
  },
  {
   "cell_type": "markdown",
   "metadata": {},
   "source": [
    "#### ヒント"
   ]
  },
  {
   "cell_type": "markdown",
   "metadata": {
    "type": "hint"
   },
   "source": [
    "- ソートには `sorted` を用いてください。\n",
    "```Python\n",
    "ソートされた配列 = sorted(ソートしたい配列, key=lambda)\n",
    "```"
   ]
  },
  {
   "cell_type": "markdown",
   "metadata": {},
   "source": [
    "#### 解答例"
   ]
  },
  {
   "cell_type": "code",
   "execution_count": null,
   "metadata": {
    "type": "answer"
   },
   "outputs": [],
   "source": [
    "# time_data...[年, 月, 日, 時, 分]\n",
    "time_data = [\n",
    "    [2006, 11, 26,  2, 40],\n",
    "    [2009,  1, 16, 23, 35],\n",
    "    [2014,  5,  4, 14, 26],\n",
    "    [2017,  8,  9,  7,  5],\n",
    "    [2017,  4,  1, 22, 15]\n",
    "]\n",
    "# \"時\"をキーとしてソートし、配列にして下さい\n",
    "sort_by_time = sorted(time_data, key=lambda x: x[3])\n",
    "\n",
    "# ソートした配列を出力して下さい\n",
    "print(sort_by_time)"
   ]
  },
  {
   "cell_type": "code",
   "execution_count": null,
   "metadata": {
    "type": "sct",
    "scrolled": true
   },
   "outputs": [],
   "source": [
    "index_code_contains(\"sorted\", failure_msg=\"sorted()関数を用いてください\")\n",
    "check_output_match(failure_msg=\"出力結果が間違っています。\")\n",
    "execute_index()"
   ]
  },
  {
   "cell_type": "markdown",
   "metadata": {},
   "source": [
    "***"
   ]
  },
  {
   "cell_type": "markdown",
   "metadata": {
    "type": "section_name",
    "sectionId": "HkRluAX-gbf"
   },
   "source": [
    "## 1.3 リスト内包表記"
   ]
  },
  {
   "cell_type": "markdown",
   "metadata": {
    "courseId": 4050,
    "exerciseId": "BkvLK28jLlz",
    "type": "code_session_name",
    "important": true,
    "isDL": false,
    "timeoutSecs": 5
   },
   "source": [
    "### 1.3.1 リストの生成"
   ]
  },
  {
   "cell_type": "markdown",
   "metadata": {
    "type": "description"
   },
   "source": [
    "本コースの<a href='/courses/4050/exercises/HJVLK38oLlM' target='_blank'>1.2.3 高階関数（map）</a>では`map()`関数を用いた配列の生成方法を紹介しましたが、`map()`関数は本来イテレータの作成に特化しているため、`list()`関数で配列を生成するタイミングで時間がかかってしまいます。<br>\n",
    "そのため`map()`関数と同様の手法で単純に配列を生成したいのであれば`for`ループの<b style='color:#AA0000'>リスト内包表記</b>を用います。<br>\n",
    "<br>\n",
    "リスト内包表記による配列の作成方法は以下の通りです。\n",
    "\n",
    "```Python\n",
    "[適用したい関数(要素) for 要素 in 適用する元の配列]\n",
    "```\n",
    "\n",
    "例えば`a = [1, -2, 3, -4, 5]`という配列の各要素の絶対値を取るには以下のように書きます。\n",
    "\n",
    "```Python\n",
    "a = [1, -2, 3, -4, 5]\n",
    "# リスト内包表記で各要素の絶対値を取る\n",
    "[abs(x) for x in a]\n",
    "```\n",
    "\n",
    "```Python\n",
    ">>> 出力結果\n",
    "[1, 2, 3, 4, 5]\n",
    "```\n",
    "\n",
    "以下のように`map()`関数を用いるよりも、括弧の数を見ても簡潔に書けていると言えます。\n",
    "\n",
    "```Python\n",
    "# mapでlist作成\n",
    "list(map(abs, a))\n",
    "```\n",
    "\n",
    "```python\n",
    ">>> 出力結果\n",
    "[1, 2, 3, 4, 5]\n",
    "```\n",
    "\n",
    "イテレータを作成する場合は`map()`関数、直接配列を得たい場合は`リスト内包表記`と使い分けると良いでしょう。"
   ]
  },
  {
   "cell_type": "markdown",
   "metadata": {},
   "source": [
    "#### 問題"
   ]
  },
  {
   "cell_type": "markdown",
   "metadata": {
    "type": "question"
   },
   "source": [
    "- 計測時間(分)を要素に持つ配列`minute_data`について、計測時間を[時, 分]に換算する関数を作成し、リスト内包表記を用いて作成した配列を出力して下さい。<br>\n",
    "例えば`minute_data = [75, 120, 14]`であれば、<br>`[[1, 15], [2, 0], [0, 14]]`という配列を作成します。"
   ]
  },
  {
   "cell_type": "code",
   "execution_count": null,
   "metadata": {
    "type": "index"
   },
   "outputs": [],
   "source": [
    "# minute_data...単位は分\n",
    "minute_data = [30, 155, 180, 74, 11, 60, 82]\n",
    "\n",
    "# 計測時間(分)を[時, 分]に換算する関数を作成して下さい\n",
    "\n",
    "\n",
    "# リスト内包表記を用いて所定の配列を作成して下さい\n",
    "\n",
    "\n",
    "# 出力して下さい\n"
   ]
  },
  {
   "cell_type": "markdown",
   "metadata": {},
   "source": [
    "#### ヒント"
   ]
  },
  {
   "cell_type": "markdown",
   "metadata": {
    "type": "hint"
   },
   "source": [
    "- 換算する関数の返り値は配列にします。\n",
    "- 75分は60で割ると1余り15。 よって、75分は1時間15分。 これを`lambda`で表現します。"
   ]
  },
  {
   "cell_type": "markdown",
   "metadata": {},
   "source": [
    "#### 解答例"
   ]
  },
  {
   "cell_type": "code",
   "execution_count": null,
   "metadata": {
    "type": "answer"
   },
   "outputs": [],
   "source": [
    "# minute_data...単位は分\n",
    "minute_data = [30, 155, 180, 74, 11, 60, 82]\n",
    "\n",
    "# 計測時間(分)を[時, 分]に換算する関数を作成して下さい\n",
    "h_m_split = lambda x: [x // 60, x % 60]\n",
    "\n",
    "# リスト内包表記を用いて所定の配列を作成して下さい\n",
    "h_m_data = [h_m_split(x) for x in minute_data]\n",
    "\n",
    "# 出力して下さい\n",
    "print(h_m_data)"
   ]
  },
  {
   "cell_type": "code",
   "execution_count": null,
   "metadata": {
    "type": "sct",
    "scrolled": true
   },
   "outputs": [],
   "source": [
    "index_code_not_contains(\"\\[\\[0, 30], \\[2, 35], \\[3, 0], \\[1, 14], \\[0, 11], \\[1, 0], \\[1, 22]]\", failure_msg=\"リスト内包表記を用いてください\")\n",
    "check_output_match(failure_msg=\"出力結果が間違っています。\")\n",
    "execute_index()"
   ]
  },
  {
   "cell_type": "markdown",
   "metadata": {},
   "source": [
    "***"
   ]
  },
  {
   "cell_type": "markdown",
   "metadata": {
    "courseId": 4050,
    "exerciseId": "B1u8Kn8sIgG",
    "type": "code_session_name",
    "important": false,
    "isDL": false,
    "timeoutSecs": 5
   },
   "source": [
    "### 1.3.2 if文を用いたループ"
   ]
  },
  {
   "cell_type": "markdown",
   "metadata": {
    "type": "description"
   },
   "source": [
    "リスト内包表記の中で条件分岐を行うと、`filter()`関数と同様の操作をすることができます。<br>\n",
    "後置`if`の使い方は以下の通りです。\n",
    "\n",
    "```Python\n",
    "[適用したい関数(要素) for 要素 in フィルタリングしたい配列 if 条件]\n",
    "```\n",
    "\n",
    "単に条件を満たす要素を取り出したい場合は、<b>(適用したい関数(要素))</b>の部分を<b>(要素)</b>と記述します。<br>\n",
    "<br>\n",
    "例えば`a = [1, -2, 3, -4, 5]`という配列から正の要素を取り出すには以下のように書きます。\n",
    "\n",
    "```Python\n",
    "a = [1, -2, 3, -4, 5]\n",
    "# リスト内包表記フィルタリング(後置if)\n",
    "[x for x in a if x > 0]\n",
    "```\n",
    "\n",
    "```Python\n",
    ">>> 出力結果\n",
    "[1, 3, 5]\n",
    "```\n",
    "\n",
    "この書き方は <a href='/courses/4050/exercises/S1MLF2LoUgz' target='_blank'>1.1.3 ifを用いたlambda</a> で紹介した<b>三項演算子</b>とは異なるので、注意が必要です。<br>\n",
    "三項演算子は条件を満たさない要素についても何らかの処理の定義が必要なのに対し、`if`を後置する場合は条件を満たさない要素を無視することが可能です。"
   ]
  },
  {
   "cell_type": "markdown",
   "metadata": {},
   "source": [
    "#### 問題"
   ]
  },
  {
   "cell_type": "markdown",
   "metadata": {
    "type": "question"
   },
   "source": [
    "- 配列`minute_data`を[時, 分]に換算した際に[時, 0]となる、つまり分の端数が出ない要素を抜き出して配列にし、出力して下さい。<br>\n",
    "例えば`minute_data = [75, 120, 14]`であれば、<br>`[120]`という配列を作成します。"
   ]
  },
  {
   "cell_type": "code",
   "execution_count": null,
   "metadata": {
    "type": "index"
   },
   "outputs": [],
   "source": [
    "# minute_data...単位は分\n",
    "minute_data = [30, 155, 180, 74, 11, 60, 82]\n",
    "\n",
    "# リスト内包表記を用いて所定の配列を作成して下さい\n",
    "\n",
    "\n",
    "# 出力して下さい\n"
   ]
  },
  {
   "cell_type": "markdown",
   "metadata": {},
   "source": [
    "#### ヒント"
   ]
  },
  {
   "cell_type": "markdown",
   "metadata": {
    "type": "hint"
   },
   "source": [
    "- 60で割った余りが0となる数でフィルタリングします。 "
   ]
  },
  {
   "cell_type": "markdown",
   "metadata": {},
   "source": [
    "#### 解答例"
   ]
  },
  {
   "cell_type": "code",
   "execution_count": null,
   "metadata": {
    "type": "answer"
   },
   "outputs": [],
   "source": [
    "# minute_data...単位は分\n",
    "minute_data = [30, 155, 180, 74, 11, 60, 82]\n",
    "\n",
    "# リスト内包表記を用いて所定の配列を作成して下さい\n",
    "just_hour_data = [x for x in minute_data if x % 60 == 0 ]\n",
    "\n",
    "# 出力して下さい\n",
    "print(just_hour_data)"
   ]
  },
  {
   "cell_type": "code",
   "execution_count": null,
   "metadata": {
    "type": "sct",
    "scrolled": true
   },
   "outputs": [],
   "source": [
    "index_code_not_contains(\"\\[180, 60]\", failure_msg=\"リスト内包表記を用いてください\")\n",
    "check_output_match(failure_msg=\"出力結果が間違っています。\")\n",
    "execute_index()"
   ]
  },
  {
   "cell_type": "markdown",
   "metadata": {},
   "source": [
    "***"
   ]
  },
  {
   "cell_type": "markdown",
   "metadata": {
    "courseId": 4050,
    "exerciseId": "rJK8t3UjLgM",
    "type": "code_session_name",
    "important": false,
    "isDL": false,
    "timeoutSecs": 5
   },
   "source": [
    "### 1.3.3 複数配列の同時ループ"
   ]
  },
  {
   "cell_type": "markdown",
   "metadata": {
    "type": "description"
   },
   "source": [
    "複数の配列を同時にループしたい場合は <b style='color:#AA0000'>zip()</b>関数を用います。<br>\n",
    "例えば`a = [1, -2, 3, -4, 5]`, `b = [9, 8, -7, -6, -5]`という配列を同時にループする場合、for文を用いると以下のように書きます。\n",
    "\n",
    "```Python\n",
    "a = [1, -2, 3, -4, 5]\n",
    "b = [9, 8, -7, -6, -5]\n",
    "# zipを用いた並列ループ\n",
    "for x, y in zip(a, b):\n",
    "    print(x, y)\n",
    "```\n",
    "\n",
    "```Python\n",
    ">>> 出力結果\n",
    "1 9\n",
    "-2 8\n",
    "3 -7\n",
    "-4 -6\n",
    "5 -5\n",
    "```\n",
    "\n",
    "リスト内包表記でも同様に`zip()`関数を用いて複数の配列を並列に処理することが可能です。\n",
    "\n",
    "```Python\n",
    "a = [1, -2, 3, -4, 5]\n",
    "b = [9, 8, -7, -6, -5]\n",
    "# リスト内包表記で並列に処理\n",
    "[x**2 + y**2 for x, y in zip(a, b)]\n",
    "```\n",
    "\n",
    "```Python\n",
    ">>> 出力結果\n",
    "[82, 68, 58, 52, 50]\n",
    "```"
   ]
  },
  {
   "cell_type": "markdown",
   "metadata": {},
   "source": [
    "#### 問題"
   ]
  },
  {
   "cell_type": "markdown",
   "metadata": {
    "type": "question"
   },
   "source": [
    "- `hour`と`minute`の配列から、分に換算した値の配列を作成する関数を作成し、出力して下さい。<br>\n",
    "<a href='/courses/4050/exercises/BkvLK28jLlz' target='_blank'>1.3.1 リストの生成</a> の問題で行ったことと逆の操作をします。"
   ]
  },
  {
   "cell_type": "code",
   "execution_count": null,
   "metadata": {
    "type": "index"
   },
   "outputs": [],
   "source": [
    "# 時間データhour, 分データminute\n",
    "hour = [0, 2, 3, 1, 0, 1, 1]\n",
    "minute = [30, 35, 0, 14, 11, 0, 22]\n",
    "\n",
    "# 時, 分を引数に、分に換算する関数を作成して下さい\n",
    "\n",
    "\n",
    "# リスト内包表記を用いて所定の配列を作成してください\n",
    "\n",
    "\n",
    "# 出力して下さい\n"
   ]
  },
  {
   "cell_type": "markdown",
   "metadata": {},
   "source": [
    "#### ヒント"
   ]
  },
  {
   "cell_type": "markdown",
   "metadata": {
    "type": "hint"
   },
   "source": [
    "- 分に換算するには 時×60 + 分 を計算します。"
   ]
  },
  {
   "cell_type": "markdown",
   "metadata": {},
   "source": [
    "#### 解答例"
   ]
  },
  {
   "cell_type": "code",
   "execution_count": null,
   "metadata": {
    "type": "answer"
   },
   "outputs": [],
   "source": [
    "# 時間データhour, 分データminute\n",
    "hour = [0, 2, 3, 1, 0, 1, 1]\n",
    "minute = [30, 35, 0, 14, 11, 0, 22]\n",
    "\n",
    "# 時, 分を引数に、分に換算する関数を作成して下さい\n",
    "h_m_combine = lambda x, y: x*60 + y\n",
    "\n",
    "# リスト内包表記を用いて所定の配列を作成してください\n",
    "minute_data1 = [h_m_combine(x, y) for x, y in zip(hour, minute)]\n",
    "\n",
    "# 出力して下さい\n",
    "print(minute_data1)"
   ]
  },
  {
   "cell_type": "code",
   "execution_count": null,
   "metadata": {
    "type": "sct",
    "scrolled": true
   },
   "outputs": [],
   "source": [
    "index_code_contains(\"zip\", failure_msg=\"zip()関数を用いてください\")\n",
    "check_output_match(failure_msg=\"出力結果が間違っています。\")\n",
    "execute_index()"
   ]
  },
  {
   "cell_type": "markdown",
   "metadata": {},
   "source": [
    "***"
   ]
  },
  {
   "cell_type": "markdown",
   "metadata": {
    "courseId": 4050,
    "exerciseId": "HJ9LK2IjLlM",
    "type": "code_session_name",
    "important": false,
    "isDL": false,
    "timeoutSecs": 5
   },
   "source": [
    "### 1.3.4 多重ループ"
   ]
  },
  {
   "cell_type": "markdown",
   "metadata": {
    "type": "description"
   },
   "source": [
    "同時にループする場合には`zip()`関数を用いましたが、ループの中でさらにループを行う`多重ループ`は、for文では以下のように書きます。\n",
    "\n",
    "```Python\n",
    "a = [1, -2, 3]\n",
    "b = [9, 8]\n",
    "# 二重ループ\n",
    "for x in a:\n",
    "    for y in b:\n",
    "        print(x, y)\n",
    "```\n",
    "\n",
    "```Python\n",
    ">>> 出力結果\n",
    "1 9\n",
    "1 8\n",
    "-2 9\n",
    "-2 8\n",
    "3 9\n",
    "3 8\n",
    "```\n",
    "\n",
    "同様にリスト内包表記では、`for`文を単純に2回並べて書くだけで二重ループになります。\n",
    "\n",
    "```Python\n",
    "a = [1, -2, 3]\n",
    "b = [9, 8]\n",
    "# リスト内包表記で二重ループ\n",
    "[[x, y] for x in a for y in b]\n",
    "```\n",
    "\n",
    "```Python\n",
    ">>> 出力結果\n",
    "[[1, 9], [1, 8], [-2, 9], [-2, 8], [3, 9], [3, 8]]\n",
    "```"
   ]
  },
  {
   "cell_type": "markdown",
   "metadata": {},
   "source": [
    "#### 問題"
   ]
  },
  {
   "cell_type": "markdown",
   "metadata": {
    "type": "question"
   },
   "source": [
    "- 二進数で３桁目を示す`fours_place`と２桁目を示す`twos_place`、１桁目を示す`ones_place`を用いて、十進数で0から7までの数を配列にして出力して下さい。<br>\n",
    "例えば`fours_place = 1, twos_place = 0, ones_place = 1`であれば、<br>\n",
    "二進数で`101`を意味するので、十進数では`5`となります。"
   ]
  },
  {
   "cell_type": "code",
   "execution_count": null,
   "metadata": {
    "type": "index"
   },
   "outputs": [],
   "source": [
    "# 二進数の桁\n",
    "fours_place = [0, 1]\n",
    "twos_place  = [0, 1]\n",
    "ones_place  = [0, 1]\n",
    "\n",
    "# リスト内包表記の多重ループを用いて0から7までの整数を計算し、配列にして下さい\n",
    "\n",
    "\n",
    "# 出力して下さい\n"
   ]
  },
  {
   "cell_type": "markdown",
   "metadata": {},
   "source": [
    "#### ヒント"
   ]
  },
  {
   "cell_type": "markdown",
   "metadata": {
    "type": "hint"
   },
   "source": [
    "- 十進数は、<br>`(３桁目の値) * 10**2 + （２桁目の値） * 10 + （１桁目の値）`<br>\n",
    "二進数は、上記の `10**2`を ` 2**2`、` *10`を ` *2`で求められます。\n",
    "- `fours_place`と`twos_place`、`ones_place`の三重ループを作ります。"
   ]
  },
  {
   "cell_type": "markdown",
   "metadata": {},
   "source": [
    "#### 解答例"
   ]
  },
  {
   "cell_type": "code",
   "execution_count": null,
   "metadata": {
    "type": "answer"
   },
   "outputs": [],
   "source": [
    "# 二進数の桁\n",
    "fours_place = [0, 1]\n",
    "twos_place  = [0, 1]\n",
    "ones_place  = [0, 1]\n",
    "\n",
    "# リスト内包表記の多重ループを用いて0から7までの整数を計算し、配列にして下さい\n",
    "digit = [x*4 + y*2 + z for x in fours_place for y in twos_place for z in ones_place]\n",
    "\n",
    "# 出力して下さい\n",
    "print(digit)"
   ]
  },
  {
   "cell_type": "code",
   "execution_count": null,
   "metadata": {
    "type": "sct",
    "scrolled": true
   },
   "outputs": [],
   "source": [
    "index_code_contains(\"for\", failure_msg=\"リスト内包表記を用いてください\")\n",
    "check_output_match(failure_msg=\"出力結果が間違っています。\")\n",
    "execute_index()"
   ]
  },
  {
   "cell_type": "markdown",
   "metadata": {},
   "source": [
    "***"
   ]
  },
  {
   "cell_type": "markdown",
   "metadata": {
    "type": "section_name",
    "sectionId": "By1ZOC7Zl-M"
   },
   "source": [
    "## 1.4 辞書オブジェクト"
   ]
  },
  {
   "cell_type": "markdown",
   "metadata": {
    "courseId": 4050,
    "exerciseId": "SJjUFhLiIxM",
    "type": "code_session_name",
    "important": false,
    "isDL": false,
    "timeoutSecs": 5
   },
   "source": [
    "### 1.4.1 defaultdict"
   ]
  },
  {
   "cell_type": "markdown",
   "metadata": {
    "type": "description"
   },
   "source": [
    "Pythonの辞書型のオブジェクトは新たな`key`を追加するために毎回その`key`の初期化が必要になるため、処理が煩雑になります。<br>\n",
    "例えばリスト`lst`に入っている各要素の個数を辞書`d`に反映するプログラムは以下のようになります。<br>\n",
    "存在しないキーは`「KeyError」`になるため、`d`に新たな要素を登録するたびに要素の個数の初期化が必要になります。\n",
    "\n",
    "```Python\n",
    "# 辞書dにリストlstの各要素の出現回数を記録\n",
    "d = {}\n",
    "lst = [\"foo\", \"bar\", \"pop\", \"pop\", \"foo\", \"popo\"]\n",
    "for key in lst:\n",
    "    # dにkey(要素)がすでに登録されているかいないかで処理を分ける\n",
    "    if key in d:\n",
    "        # dにkey(要素)が登録されている場合\n",
    "        # 要素の個数を加算する\n",
    "        d[key] += 1\n",
    "    else:\n",
    "        # dにkey(要素)が登録されていない場合\n",
    "        # 要素の個数の初期化が必要\n",
    "        d[key] = 1\n",
    "print(d)\n",
    "```\n",
    "\n",
    "```Python\n",
    ">>> 出力結果\n",
    "{'foo': 2, 'bar': 1, 'pop': 2, 'popo': 1}\n",
    "```\n",
    "\n",
    "そこで、`collections`モジュールの`defaultdict`クラスを用いることでこの問題を解決します。<br>\n",
    "<br>\n",
    "`defaultdict`クラスは以下のように定義します。`valueの型`には`int`や`list`などデータ型を指定します。\n",
    "```Python\n",
    "from collections import defaultdict\n",
    "\n",
    "d = defaultdict(valueの型)\n",
    "```\n",
    "`defaultdict`は辞書型と同じように使用でき、 <b style='color: #AA0000'>defaultdict</b>で上記と同じ処理をするプログラムを書くと以下のようになります。値の初期化をせずとも要素の個数の数え上げができていることが分かります。\n",
    "```Python\n",
    "from collections import defaultdict\n",
    "# 辞書dにリストlstの各要素の出現回数を記録\n",
    "d = defaultdict(int)\n",
    "lst = [\"foo\", \"bar\", \"pop\", \"pop\", \"foo\", \"popo\"]\n",
    "for key in lst:\n",
    "    d[key] += 1\n",
    "    # else: d[key] = 1 を書いて初期化する必要がない\n",
    "print(d)\n",
    "```\n",
    "```Python\n",
    ">>> 出力結果\n",
    "defaultdict(<class 'int'>, {'foo': 2, 'bar': 1, 'pop': 2, 'popo': 1})\n",
    "```\n",
    "\n",
    "出力結果の辞書型のオブジェクトをキーやバリューでソートする場合は、`sorted()`関数を用います。`sorted()`関数は、`sorted(ソート対象, ソートに使用するkey, ソートオプション）`の書式で呼び出します。\n",
    "\n",
    "```Python\n",
    "sorted(辞書名.items(), key=lambdaで配列を指定, reverse=True)\n",
    "```\n",
    "\n",
    "ソートに使用する`key`は`items`を指定して`(key, value)`のリスト形式で取り出し、`key`でソートする場合は`lambda`で「リストの1番目」つまり`x[０]`と指定します。\n",
    "また、`value`でソートする場合は`lambda`で「リストの2番目」つまり`x[1]`と指定します。<br>\n",
    "ソートオプションは昇順がデフォルトで、`reverse=True`と指定すると降順になります。<br>\n",
    "前述のプログラム例の出力結果を`value`で降順にソートして出力するには以下のように記述します。\n",
    "\n",
    "```Python\n",
    "print(sorted(d.items(), key=lambda x: x[1], reverse=True))\n",
    "```\n"
   ]
  },
  {
   "cell_type": "markdown",
   "metadata": {},
   "source": [
    "#### 問題"
   ]
  },
  {
   "cell_type": "markdown",
   "metadata": {
    "type": "question"
   },
   "source": [
    "- 文字列`description`に出現する文字を`key`とし、その出現回数を`value`とした辞書を作成して下さい。<br>\n",
    "辞書は`defaultdict`によって定義して下さい。\n",
    "- 辞書を`value`の降順にソートし、上位10要素を出力して下さい。"
   ]
  },
  {
   "cell_type": "code",
   "execution_count": null,
   "metadata": {
    "type": "index"
   },
   "outputs": [],
   "source": [
    "from collections import defaultdict\n",
    "\n",
    "# 文字列 description\n",
    "description = \\\n",
    "\"Artificial intelligence (AI, also machine intelligence, MI) is \" + \\\n",
    "\"intelligence exhibited by machines, rather than \" + \\\n",
    "\"humans or other animals (natural intelligence, NI).\"\n",
    "\n",
    "# defaultdict を定義して下さい\n",
    "char_freq = \n",
    "\n",
    "# 文字の出現回数を記録して下さい\n",
    "for i in description:\n",
    "    \n",
    "    \n",
    "# value の降順にソートし、上位10要素を出力して下さい\n",
    "print()"
   ]
  },
  {
   "cell_type": "markdown",
   "metadata": {},
   "source": [
    "#### ヒント"
   ]
  },
  {
   "cell_type": "markdown",
   "metadata": {
    "type": "hint"
   },
   "source": [
    "- `defaultdict`のvalueは`int`型です。\n",
    "- 文字列は一文字ずつループします（空白も含みます）。\n",
    "- ソートを行うために、`辞書名.items()`で`(key, value)`のリスト（配列）を取得します。\n",
    "- ソートは`sorted()`関数を用います。今回は降順にソートするので `reverse` を `True` にします。\n",
    "```Python\n",
    "sorted(辞書名.items(), key=lambdaで配列の第二要素を指定, reverse=True)\n",
    "```"
   ]
  },
  {
   "cell_type": "markdown",
   "metadata": {},
   "source": [
    "#### 解答例"
   ]
  },
  {
   "cell_type": "code",
   "execution_count": null,
   "metadata": {
    "type": "answer"
   },
   "outputs": [],
   "source": [
    "from collections import defaultdict\n",
    "\n",
    "# 文字列 description\n",
    "description = \\\n",
    "\"Artificial intelligence (AI, also machine intelligence, MI) is \" + \\\n",
    "\"intelligence exhibited by machines, rather than \" + \\\n",
    "\"humans or other animals (natural intelligence, NI).\"\n",
    "\n",
    "# defaultdict を定義して下さい\n",
    "char_freq = defaultdict(int)\n",
    "\n",
    "# 文字の出現回数を記録して下さい\n",
    "for i in description:\n",
    "    char_freq[i] += 1\n",
    "    \n",
    "# value の降順にソートし、上位10要素を出力して下さい\n",
    "print(sorted(char_freq.items(), key=lambda x: x[1], reverse=True)[:10])"
   ]
  },
  {
   "cell_type": "code",
   "execution_count": null,
   "metadata": {
    "type": "sct",
    "scrolled": true
   },
   "outputs": [],
   "source": [
    "index_code_contains(\"defaultdict\", failure_msg=\"defaultdictを用いてください\")\n",
    "check_output_match(failure_msg=\"出力結果が間違っています。\")\n",
    "execute_index()"
   ]
  },
  {
   "cell_type": "markdown",
   "metadata": {},
   "source": [
    "***"
   ]
  },
  {
   "cell_type": "markdown",
   "metadata": {
    "courseId": 4050,
    "exerciseId": "S1hLK3LiLlf",
    "type": "code_session_name",
    "important": false,
    "isDL": false,
    "timeoutSecs": 5
   },
   "source": [
    "### 1.4.2 value内の要素の追加"
   ]
  },
  {
   "cell_type": "markdown",
   "metadata": {
    "type": "description"
   },
   "source": [
    "`defaultdict`を使用して`list`型の辞書に要素を追加します。\n",
    "\n",
    "```Python\n",
    "from collections import defaultdict\n",
    "\n",
    "defaultdict(list)\n",
    "```\n",
    "\n",
    "`value`が`list`型なので`辞書名[key].append(要素)`と指定すると、`value`に要素を追加することができます。これも標準の辞書型オブジェクトでは以下のように一手間かかります。\n",
    "\n",
    "```Python\n",
    "# 辞書にvalueの要素を追加\n",
    "d ={}\n",
    "price = [\n",
    "    (\"apple\", 50),\n",
    "    (\"banana\", 120),\n",
    "    (\"grape\", 500),\n",
    "    (\"apple\", 70),\n",
    "    (\"lemon\", 150),\n",
    "    (\"grape\", 1000)\n",
    "]\n",
    "for key, value in price:\n",
    "    # keyの存在で条件分岐\n",
    "    if key in d:\n",
    "        d[key].append(value)\n",
    "    else:\n",
    "        d[key] = [value]\n",
    "print(d)\n",
    "```\n",
    "\n",
    "```Python\n",
    ">>> 出力結果\n",
    "{'apple': [50, 70], 'banana': [120], 'grape': [500, 1000], 'lemon': [150]}\n",
    "```\n",
    "\n",
    "ここで`defaultdict`を使用すると条件分岐が不要になります。\n",
    "これを利用することで、`key`ごとに`value`をまとめることができます。"
   ]
  },
  {
   "cell_type": "markdown",
   "metadata": {},
   "source": [
    "#### 問題"
   ]
  },
  {
   "cell_type": "markdown",
   "metadata": {
    "type": "question"
   },
   "source": [
    "- `defaultdict`を用いて上記の例と同様の処理を行い、辞書を作成して下さい。\n",
    "- 作成した辞書の各`value`について平均値をとり、配列にして出力して下さい。"
   ]
  },
  {
   "cell_type": "code",
   "execution_count": null,
   "metadata": {
    "type": "index"
   },
   "outputs": [],
   "source": [
    "from collections import defaultdict\n",
    "\n",
    "# まとめたいデータ price...(名前, 値段)\n",
    "price = [\n",
    "    (\"apple\", 50),\n",
    "    (\"banana\", 120),\n",
    "    (\"grape\", 500),\n",
    "    (\"apple\", 70),\n",
    "    (\"lemon\", 150),\n",
    "    (\"grape\", 1000)\n",
    "]\n",
    "# defaultdict を定義して下さい\n",
    "\n",
    "\n",
    "# 上記の例と同様にvalue の要素に値段を追加して下さい\n",
    "\n",
    "\n",
    "\n",
    "# 各value の平均値を計算し、配列にして出力して下さい\n"
   ]
  },
  {
   "cell_type": "markdown",
   "metadata": {},
   "source": [
    "#### ヒント"
   ]
  },
  {
   "cell_type": "markdown",
   "metadata": {
    "type": "hint"
   },
   "source": [
    "- `defaultdict`のvalueは`list`型です。\n",
    "- 基本は標準の辞書型と同じ方法で追加できますが、`defaultdict` を使用すると条件分岐が不要です。\n",
    "- 各valueは`int`が格納されている`list`なので、平均値をとるには以下のような演算を行います。\n",
    "```Python\n",
    "sum(value) / len(value)\n",
    "```\n",
    "- 各valueの平均値の計算はリスト内包表記でまとめて行います。その際の（適用する元の配列）は`辞書名.values()`によって取得します。"
   ]
  },
  {
   "cell_type": "markdown",
   "metadata": {},
   "source": [
    "#### 解答例"
   ]
  },
  {
   "cell_type": "code",
   "execution_count": null,
   "metadata": {
    "type": "answer"
   },
   "outputs": [],
   "source": [
    "from collections import defaultdict\n",
    "\n",
    "# まとめたいデータ price...(名前, 値段)\n",
    "price = [\n",
    "    (\"apple\", 50),\n",
    "    (\"banana\", 120),\n",
    "    (\"grape\", 500),\n",
    "    (\"apple\", 70),\n",
    "    (\"lemon\", 150),\n",
    "    (\"grape\", 1000)\n",
    "]\n",
    "# defaultdict を定義して下さい\n",
    "d = defaultdict(list)\n",
    "\n",
    "# 上記の例と同様にvalue の要素に値段を追加して下さい\n",
    "for key, value in price:\n",
    "        d[key].append(value)\n",
    "\n",
    "# 各value の平均値を計算し、配列にして出力して下さい\n",
    "print([sum(x) / len(x) for x in d.values()])"
   ]
  },
  {
   "cell_type": "code",
   "execution_count": null,
   "metadata": {
    "type": "sct",
    "scrolled": true
   },
   "outputs": [],
   "source": [
    "index_code_contains(\"defaultdict\", failure_msg=\"defaultdictを用いてください\")\n",
    "check_output_match(failure_msg=\"出力結果が間違っています。\")\n",
    "execute_index()"
   ]
  },
  {
   "cell_type": "markdown",
   "metadata": {},
   "source": [
    "***"
   ]
  },
  {
   "cell_type": "markdown",
   "metadata": {
    "courseId": 4050,
    "exerciseId": "rJaLtnUiLgG",
    "type": "code_session_name",
    "important": false,
    "isDL": false,
    "timeoutSecs": 5
   },
   "source": [
    "### 1.4.3 Counter"
   ]
  },
  {
   "cell_type": "markdown",
   "metadata": {
    "type": "description"
   },
   "source": [
    "`collections`モジュールには`defaultdict`クラス以外にもいくつかのデータ格納クラスがあります。<br>\n",
    "<br>\n",
    "ここで紹介する`Counter`クラスは、`defaultdict`同様 辞書型のオブジェクトと同じように使用できますが、より<b>要素の数え上げ</b>に特化したクラスです。<br>\n",
    "`Counter`クラスは以下のように定義します。`数え上げたいデータ`には、例えば単語を分解した配列や文字列、辞書などを指定します。\n",
    "\n",
    "```Python\n",
    "from collections import Counter\n",
    "\n",
    "d = Counter(数え上げたいデータ)\n",
    "```\n",
    "\n",
    "`Counter`クラスを用いると <a href='/courses/4050/exercises/SJjUFhLiIxM' target='_blank'>1.4.1 defaultdict</a> で説明した、単語をkey、出現回数をvalueとした辞書を作成するのに以下のように記述するだけで実現でき、`for`ループを用いないので`defaultdict`よりも実行時間を短く簡潔に数え上げることができます。\n",
    "\n",
    "```Python\n",
    "# Counterのインポート\n",
    "from collections import Counter\n",
    "\n",
    "# 辞書に要素の出現回数を記録\n",
    "lst = [\"foo\", \"bar\", \"pop\", \"pop\", \"foo\", \"popo\"]\n",
    "d = Counter(lst)\n",
    "\n",
    "print(d)\n",
    "```\n",
    "\n",
    "```Python\n",
    ">>> 出力結果\n",
    "Counter({'foo': 2, 'pop': 2, 'bar': 1, 'popo': 1})\n",
    "```\n",
    "\n",
    "`Counter`クラスにはいくつかの数え上げを助ける関数が用意されており、`most_common()`関数は要素を頻度で降順にソートした配列を返します。<br>\n",
    "`most_common()`関数の使い方は以下の通りです。`取得する要素数`には整数を指定します。例えば`1`と指定すると最頻の要素を返し、`何も指定しない`と、すべての要素をソートして返します。\n",
    "\n",
    "```Python\n",
    "辞書名.most_common(取得する要素数)\n",
    "```\n",
    "\n",
    "```Python\n",
    "# Counterに文字列を格納、文字の出現頻度を数え上げる\n",
    "d = Counter(\"A Counter is a dict subclass for counting hashable objects.\")\n",
    "\n",
    "# 最も多い5要素を並べる\n",
    "print(d.most_common(5))\n",
    "```\n",
    "\n",
    "```Python\n",
    ">>> 出力結果\n",
    "[(\" \", 9), (\"s\", 6), (\"o\", 4), (\"c\", 4), (\"a\", 4)]\n",
    "```"
   ]
  },
  {
   "cell_type": "markdown",
   "metadata": {},
   "source": [
    "#### 問題"
   ]
  },
  {
   "cell_type": "markdown",
   "metadata": {
    "type": "question"
   },
   "source": [
    "- 文字列`description`に出現する文字をkeyとし、その出現回数をvalueとした辞書を作成して下さい。\n",
    "- 辞書をvalueの降順にソートし、上位10要素を出力して下さい。\n",
    "- 辞書は`Counter`によって定義して下さい。"
   ]
  },
  {
   "cell_type": "code",
   "execution_count": null,
   "metadata": {
    "type": "index"
   },
   "outputs": [],
   "source": [
    "from collections import Counter\n",
    "\n",
    "# 文字列 description\n",
    "description = \\\n",
    "\"Artificial intelligence (AI, also machine intelligence, MI) is \" + \\\n",
    "\"intelligence exhibited by machines, rather than \" + \\\n",
    "\"humans or other animals (natural intelligence, NI).\"\n",
    "\n",
    "# Counterを定義して下さい\n",
    "\n",
    "\n",
    "# ソートし、上位10要素を出力して下さい\n"
   ]
  },
  {
   "cell_type": "markdown",
   "metadata": {},
   "source": [
    "#### ヒント"
   ]
  },
  {
   "cell_type": "markdown",
   "metadata": {
    "type": "hint"
   },
   "source": [
    "- ソートは`most_common()`関数を用います。\n",
    "```Python\n",
    "辞書.most_common(取得する要素数)\n",
    "```"
   ]
  },
  {
   "cell_type": "markdown",
   "metadata": {},
   "source": [
    "#### 解答例"
   ]
  },
  {
   "cell_type": "code",
   "execution_count": null,
   "metadata": {
    "type": "answer"
   },
   "outputs": [],
   "source": [
    "from collections import Counter\n",
    "\n",
    "# 文字列 description\n",
    "description = \\\n",
    "\"Artificial intelligence (AI, also machine intelligence, MI) is \" + \\\n",
    "\"intelligence exhibited by machines, rather than \" + \\\n",
    "\"humans or other animals (natural intelligence, NI).\"\n",
    "\n",
    "# Counterを定義して下さい\n",
    "char_freq = Counter(description)\n",
    "\n",
    "# ソートし、上位10要素を出力して下さい\n",
    "print(char_freq.most_common(10))"
   ]
  },
  {
   "cell_type": "code",
   "execution_count": null,
   "metadata": {
    "type": "sct",
    "scrolled": true
   },
   "outputs": [],
   "source": [
    "index_code_contains(\"Counter\", failure_msg=\"Counterを用いてください\")\n",
    "check_output_match(failure_msg=\"出力結果が間違っています。\")\n",
    "execute_index()"
   ]
  },
  {
   "cell_type": "code",
   "execution_count": null,
   "metadata": {},
   "outputs": [],
   "source": []
  },
  {
   "cell_type": "markdown",
   "metadata": {
    "type": "chapter_exam"
   },
   "source": [
    "## 1.5 まとめ問題(提出不要)"
   ]
  },
  {
   "cell_type": "markdown",
   "metadata": {
    "type": "description"
   },
   "source": [
    "この章の復習をします。   "
   ]
  },
  {
   "cell_type": "markdown",
   "metadata": {},
   "source": [
    "#### 問題"
   ]
  },
  {
   "cell_type": "markdown",
   "metadata": {
    "type": "question"
   },
   "source": [
    "与えられたプログラムの空白を埋める形で、以下の4つの問題を解いてください。\n",
    "1. ifを用いてlambda関数を定義し、計算してください。(引数aが8未満ならば、5倍にし、8以上ならば2で割る)\n",
    "2.  time_listから\"月\"を取り出してください。\n",
    "3. リスト内包表記を用いて体積を計算してください。\n",
    "4. 各valueの平均値の計算とpriceリストの中のフルーツ名を数え上げてください。"
   ]
  },
  {
   "cell_type": "code",
   "execution_count": null,
   "metadata": {
    "type": "index"
   },
   "outputs": [],
   "source": [
    "# if とlambdaを用いて計算してください(引数aが8未満ならば、5倍にし、8以上ならば2で割る)\n",
    "a = 8\n",
    "basic =　\n",
    "print('計算結果')\n",
    "print(basic(a))\n",
    "\n",
    "\n",
    "import re\n",
    "# 配列time_list\n",
    "time_list = [\n",
    "    \"2018/1/23_19:40\",\n",
    "    \"2016/5/7_5:25\",\n",
    "    \"2018/8/21_10:50\",\n",
    "    \"2017/8/9_7:5\",\n",
    "    \"2015/4/1_22:15\"\n",
    "]\n",
    "# 文字列から\"月\"を取り出す関数を作成して下さい\n",
    "get_month = \n",
    "\n",
    "# 各要素の\"月\"を取り出して配列にして下さい\n",
    "month_list = \n",
    "\n",
    "# 出力して下さい\n",
    "print()\n",
    "print('月')\n",
    "print(month_list)\n",
    "\n",
    "\n",
    "# リスト内包表記を用いて体積を計算してください\n",
    "length= [3, 1, 6, 2, 8, 2, 9]\n",
    "side = [4, 1, 15, 18, 7, 2, 19]\n",
    "height = [10, 15, 17, 13, 11, 19, 18]\n",
    "\n",
    "# \n",
    "volume = \n",
    "\n",
    "# 出力して下さい\n",
    "print()\n",
    "print('体積')\n",
    "print(volume)\n",
    "\n",
    "\n",
    "#  各valueの平均値の計算とpriceリストの中のフルーツ名を数え上げてください\n",
    "from collections import defaultdict\n",
    "from collections import Counter\n",
    "\n",
    "# まとめたいデータprice\n",
    "price = [\n",
    "    (\"strawberry\", 520),\n",
    "    (\"pear\", 200),\n",
    "    (\"peach\", 400),\n",
    "    (\"apple\", 170),\n",
    "    (\"lemon\", 150),\n",
    "    (\"grape\", 1000),\n",
    "    (\"strawberry\", 750),\n",
    "    (\"pear\", 400),\n",
    "    (\"peach\", 500),\n",
    "    (\"strawberry\", 70),\n",
    "    (\"lemon\", 300),\n",
    "    (\"strawberry\", 700)\n",
    "]\n",
    "# defaultdictを定義して下さい\n",
    "d = \n",
    "\n",
    "# 上記の例と同様にvalueに値段とkeyにフルーツ名を追加して下さい\n",
    "price_key_count = []\n",
    "for key, value in price:\n",
    "        \n",
    "        \n",
    "# 各valueの平均値を計算し、配列にして出力して下さい\n",
    "# 3つ目のprint()の中を、リスト内包表記を使って埋めてください\n",
    "print()\n",
    "print('valueの平均値')\n",
    "print()\n",
    "\n",
    "# 上記のpriceリストの中のフルーツ名を数え上げてください\n",
    "key_count = \n",
    "print()\n",
    "print('フルーツ名')\n",
    "print(key_count)"
   ]
  },
  {
   "cell_type": "markdown",
   "metadata": {},
   "source": [
    "#### ヒント"
   ]
  },
  {
   "cell_type": "markdown",
   "metadata": {
    "type": "hint"
   },
   "source": [
    "- lambda式についてもう一度復習してみましょう。\n",
    "- 文字列から月を取り出すには、 lambda x: int(re.split(\"正規表現\",x)[月の列])とします。\n",
    "- 配列の各要素の月を取り出すには、高階関数mapを使います。\n",
    "- valueを取り出すには.value()を使います。\n",
    "- 数える時はCounter()を使います。"
   ]
  },
  {
   "cell_type": "markdown",
   "metadata": {},
   "source": [
    "#### 解答例"
   ]
  },
  {
   "cell_type": "code",
   "execution_count": null,
   "metadata": {
    "type": "answer"
   },
   "outputs": [],
   "source": [
    "# if とlambdaを用いて計算してください(引数aが8未満ならば、5倍にし、8以上ならば2で割る)\n",
    "a = 8\n",
    "basic = lambda x: x * 5 if x < 8 else x / 2\n",
    "print('計算結果')\n",
    "print(basic(a))\n",
    "\n",
    "\n",
    "import re\n",
    "# 配列time_list\n",
    "time_list = [\n",
    "    \"2018/1/23_19:40\",\n",
    "    \"2016/5/7_5:25\",\n",
    "    \"2018/8/21_10:50\",\n",
    "    \"2017/8/9_7:5\",\n",
    "    \"2015/4/1_22:15\"\n",
    "]\n",
    "# 文字列から\"月\"を取り出す関数を作成して下さい\n",
    "get_month = lambda x: int(re.split(\"[/_:]\",x)[1])\n",
    "\n",
    "# 各要素の\"月\"を取り出して配列にして下さい\n",
    "month_list = list(map(get_month, time_list))\n",
    "\n",
    "# 出力して下さい\n",
    "print()\n",
    "print('月')\n",
    "print(month_list)\n",
    "\n",
    "\n",
    "# リスト内包表記を用いて体積を計算してください\n",
    "length= [3, 1, 6, 2, 8, 2, 9]\n",
    "side = [4, 1, 15, 18, 7, 2, 19]\n",
    "height = [10, 15, 17, 13, 11, 19, 18]\n",
    "\n",
    "# 体積の計算\n",
    "volume = [x * y * z for x, y,z  in zip(length, side, height)]\n",
    "\n",
    "# 出力して下さい\n",
    "print()\n",
    "print('体積')\n",
    "print(volume)\n",
    "\n",
    "\n",
    "#  各valueの平均値の計算とpriceリストの中のフルーツ名を数え上げてください\n",
    "from collections import defaultdict\n",
    "from collections import Counter\n",
    "\n",
    "# まとめたいデータprice\n",
    "price = [\n",
    "    (\"strawberry\", 520),\n",
    "    (\"pear\", 200),\n",
    "    (\"peach\", 400),\n",
    "    (\"apple\", 170),\n",
    "    (\"lemon\", 150),\n",
    "    (\"grape\", 1000),\n",
    "    (\"strawberry\", 750),\n",
    "    (\"pear\", 400),\n",
    "    (\"peach\", 500),\n",
    "    (\"strawberry\", 70),\n",
    "    (\"lemon\", 300),\n",
    "    (\"strawberry\", 700)\n",
    "]\n",
    "# defaultdictを定義して下さい\n",
    "d = defaultdict(list)\n",
    "\n",
    "# 上記の例と同様にvalueに値段とkeyにフルーツ名を追加して下さい\n",
    "price_key_count = []\n",
    "for key, value in price:\n",
    "        d[key].append(value)\n",
    "        price_key_count.append(key)\n",
    "        \n",
    "# 各valueの平均値を計算し、配列にして出力して下さい\n",
    "# 3つ目のprint()の中を、リスト内包表記を使って埋めてください\n",
    "print()\n",
    "print('valueの平均値')\n",
    "print([sum(x) / len(x) for x in d.values()])\n",
    "\n",
    "# 上記のpriceリストの中のフルーツ名を数え上げてください\n",
    "key_count = Counter(price_key_count)\n",
    "print()\n",
    "print('フルーツ名')\n",
    "print(key_count)"
   ]
  },
  {
   "cell_type": "markdown",
   "metadata": {
    "type": "commentary"
   },
   "source": [
    "初めて見る書き方が多く登場する章でしたが、いずれも慣れると非常に使い勝手のいいものです。\n",
    "まずはこのchapterを見直しながら確認し、使えそうな場面で思い出せるようにしておいてください。"
   ]
  },
  {
   "cell_type": "markdown",
   "metadata": {},
   "source": [
    "***"
   ]
  }
 ],
 "metadata": {
  "celltoolbar": "Edit Metadata",
  "kernelspec": {
   "display_name": "Python 3",
   "language": "python",
   "name": "python3"
  },
  "language_info": {
   "codemirror_mode": {
    "name": "ipython",
    "version": 3
   },
   "file_extension": ".py",
   "mimetype": "text/x-python",
   "name": "python",
   "nbconvert_exporter": "python",
   "pygments_lexer": "ipython3",
   "version": "3.6.9"
  },
  "toc": {
   "base_numbering": 1,
   "nav_menu": {
    "height": "512px",
    "width": "252px"
   },
   "number_sections": false,
   "sideBar": true,
   "skip_h1_title": false,
   "title_cell": "Table of Contents",
   "title_sidebar": "Contents",
   "toc_cell": false,
   "toc_position": {
    "height": "calc(100% - 180px)",
    "left": "10px",
    "top": "150px",
    "width": "304.797px"
   },
   "toc_section_display": "block",
   "toc_window_display": true
  },
  "varInspector": {
   "cols": {
    "lenName": 16,
    "lenType": 16,
    "lenVar": 40
   },
   "kernels_config": {
    "python": {
     "delete_cmd_postfix": "",
     "delete_cmd_prefix": "del ",
     "library": "var_list.py",
     "varRefreshCmd": "print(var_dic_list())"
    },
    "r": {
     "delete_cmd_postfix": ") ",
     "delete_cmd_prefix": "rm(",
     "library": "var_list.r",
     "varRefreshCmd": "cat(var_dic_list()) "
    }
   },
   "types_to_exclude": [
    "module",
    "function",
    "builtin_function_or_method",
    "instance",
    "_Feature"
   ],
   "window_display": false
  }
 },
 "nbformat": 4,
 "nbformat_minor": 2
}