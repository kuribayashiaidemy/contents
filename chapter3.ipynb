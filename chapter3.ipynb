{
 "cells": [
  {
   "cell_type": "code",
   "execution_count": null,
   "metadata": {},
   "outputs": [],
   "source": [
    "# plt.show()で可視化されない人はこのセルを実行してください。\n",
    "%matplotlib inline"
   ]
  },
  {
   "cell_type": "code",
   "execution_count": null,
   "metadata": {},
   "outputs": [],
   "source": [
    "# 初めの一回だけこのセルを実行してください、データセットをダウンロードして展開します\n",
    "# 一回実行すれば、データセットはダウンロードされたままなので、再起動後等再び実行する必要はありません\n",
    "import urllib.request\n",
    "import zipfile\n",
    "\n",
    "# URLを指定\n",
    "url = \"https://storage.googleapis.com/tutor-contents-dataset/4050_cleansing_data.zip\"\n",
    "save_name = url.split('/')[-1]\n",
    "\n",
    "# ダウンロードする\n",
    "mem = urllib.request.urlopen(url).read()\n",
    "\n",
    "# ファイルへ保存\n",
    "with open(save_name, mode='wb') as f:\n",
    "    f.write(mem)\n",
    "\n",
    "# zipファイルをカレントディレクトリに展開する\n",
    "zfile = zipfile.ZipFile(save_name)\n",
    "zfile.extractall('.')"
   ]
  },
  {
   "cell_type": "markdown",
   "metadata": {
    "config": [
     "Web",
     "Tutor"
    ]
   },
   "source": [
    "# データセットを取得したい時は以下を実行"
   ]
  },
  {
   "cell_type": "code",
   "execution_count": null,
   "metadata": {
    "config": [
     "Web",
     "Tutor"
    ]
   },
   "outputs": [],
   "source": [
    "!python3 ../distribute_tools/dl_fortutor.py || python ../distribute_tools/dl_fortutor.py"
   ]
  },
  {
   "cell_type": "markdown",
   "metadata": {
    "chapterId": "SJHW_A7-lbM",
    "type": "chapter_name"
   },
   "source": [
    "#  OpenCVの利用と画像データの前処理"
   ]
  },
  {
   "cell_type": "markdown",
   "metadata": {
    "type": "table"
   },
   "source": [
    "- **[3.1 画像データの基礎](#3.1-画像データの基礎)**\n",
    "    - **[3.1.1 RGBデータ](#3.1.1-RGBデータ)**\n",
    "    - **[3.1.2 画像データのフォーマット](#3.1.2-画像データのフォーマット)**\n",
    "    - **[3.1.3 透過データ](#3.1.3-透過データ)**\n",
    "<br><br>\n",
    "- **[3.2 OpenCVの基礎](#3.2-OpenCVの基礎)**\n",
    "    - **[3.2.1 画像の読み込み・表示](#3.2.1-画像の読み込み・表示)**\n",
    "    - **[3.2.2 画像の作成と保存](#3.2.2-画像の作成と保存)**\n",
    "    - **[3.2.3 トリミングとリサイズ](#3.2.3-トリミングとリサイズ)**\n",
    "    - **[3.2.4 回転・反転](#3.2.4-回転・反転)**\n",
    "    - **[3.2.5 色調変換・色反転](#3.2.5-色調変換・色反転)**\n",
    "<br><br>\n",
    "- **[3.3 OpenCVの利用](#3.3-OpenCVの利用)**\n",
    "    - **[3.3.1 閾値処理（二値化）](#3.3.1-閾値処理（二値化）)**\n",
    "    - **[3.3.2 マスキング](#3.3.2-マスキング)**\n",
    "    - **[3.3.3 ぼかし（平滑化）](#3.3.3-ぼかし（平滑化）)**\n",
    "    - **[3.3.4 ノイズの除去](#3.3.4-ノイズの除去)**\n",
    "    - **[3.3.5 膨張・収縮](#3.3.5-膨張・収縮)**\n",
    "<br><br>\n",
    "- **[3.4 まとめ問題（提出不要）](#3.4-まとめ問題（提出不要）)**"
   ]
  },
  {
   "cell_type": "markdown",
   "metadata": {},
   "source": [
    "***"
   ]
  },
  {
   "cell_type": "markdown",
   "metadata": {
    "config": [
     "Tutor"
    ]
   },
   "source": [
    "## <font color=\"Red\"><重要>本講座を開始する前にこちらのコードを実行してください。</b>"
   ]
  },
  {
   "cell_type": "code",
   "execution_count": null,
   "metadata": {
    "config": [
     "Tutor"
    ]
   },
   "outputs": [],
   "source": [
    "import matplotlib.pyplot as plt\n",
    "import cv2\n",
    "import numpy as np\n",
    "import time\n",
    "%matplotlib inline\n",
    "\n",
    "def aidemy_imshow(name, img):\n",
    "    if img.ndim == 3:\n",
    "        b,g,r = cv2.split(img)\n",
    "        img = cv2.merge([r,g,b])\n",
    "\n",
    "    plt.gray()\n",
    "    plt.imshow(img)\n",
    "    plt.show()\n",
    "\n",
    "cv2.imshow = aidemy_imshow"
   ]
  },
  {
   "cell_type": "markdown",
   "metadata": {
    "sectionId": "ryI-u07ZeWf",
    "type": "section_name"
   },
   "source": [
    "## 3.1 画像データの基礎"
   ]
  },
  {
   "cell_type": "markdown",
   "metadata": {
    "courseId": 4050,
    "exerciseId": "BJtvth8jIlM",
    "important": true,
    "isDL": false,
    "timeoutSecs": 5,
    "type": "quiz_session_name"
   },
   "source": [
    "### 3.1.1 RGBデータ"
   ]
  },
  {
   "cell_type": "markdown",
   "metadata": {
    "type": "description"
   },
   "source": [
    "コンピュータで表示する色は、たった3色の組み合わせでおおよそすべての色を表現しています。これを「光の三原色」と言い、赤（Red）緑（Green）青（Blue）の3色です。余談になりますが、プリンターは基本的にはCMYK、つまりシアン、マゼンダ、イエロー、ブラックで色を表現しています。パソコンのディスプレイは光の発光を利用して色を表現しますが、印刷物は光の吸収を利用して色を表現します。このように、ディスプレイと紙では発色の原理がまったく異なります。<br>\n",
    "<br>\n",
    "さて、コンピュータは画像を点の集まりとして扱います。この点は <b>ピクセル</b> と呼ばれ、例えば縦が100ピクセル、横が100ピクセルの画像は100 x 100 = 10,000個のピクセルの集まりという事です。各ピクセルは色の情報を保存する必要があります。例えば、カラー画像であればRGBの3色がそれぞれどのくらいの明るさ(濃さ)であるかを持つ必要があり、多くの場合0から255の範囲で色の明るさを表現します。数字が大きいほど明るくなり、例えば、ただの赤は(255, 0, 0)と表現し、紫色は(255, 0, 255)です。(0, 0, 0)は黒を、(255, 255, 255)は白を表します。<br>\n",
    "<br>\n",
    "カラー画像は各ピクセルに3色すべての情報を保存しなければならないので画像のサイズが非常に大きくなります。モノクロ画像は黒1色分の明るさ(0から255)のみを保存すれば良いのでカラー画像に比べてデータ量は3分の1程度で済みます。<br>\n",
    "後に扱うOpenCVで、1つのピクセルを表すための色要素の数を <b>チャンネル数</b> と呼びます。例えばRGBの画像はチャンネル数が3、モノクロ画像はチャンネル数が1です。"
   ]
  },
  {
   "cell_type": "markdown",
   "metadata": {},
   "source": [
    "#### 問題"
   ]
  },
  {
   "cell_type": "markdown",
   "metadata": {
    "type": "question"
   },
   "source": [
    "- RGBデータではある色の明るさについての情報が与えられます。どの色の情報が与えられているでしょうか。"
   ]
  },
  {
   "cell_type": "markdown",
   "metadata": {
    "type": "choices"
   },
   "source": [
    "1. 赤 \n",
    "1. 緑\n",
    "1. 青\n",
    "1. 上記のすべて"
   ]
  },
  {
   "cell_type": "markdown",
   "metadata": {},
   "source": [
    "#### ヒント"
   ]
  },
  {
   "cell_type": "markdown",
   "metadata": {
    "type": "hint"
   },
   "source": [
    "- RGBが何を意味しているのかを考えます。"
   ]
  },
  {
   "cell_type": "markdown",
   "metadata": {},
   "source": [
    "#### 解答"
   ]
  },
  {
   "cell_type": "markdown",
   "metadata": {
    "type": "answer"
   },
   "source": [
    "上記のすべて"
   ]
  },
  {
   "cell_type": "markdown",
   "metadata": {},
   "source": [
    "***"
   ]
  },
  {
   "cell_type": "markdown",
   "metadata": {
    "courseId": 4050,
    "exerciseId": "Hy9wKnIoLgG",
    "important": false,
    "isDL": false,
    "timeoutSecs": 5,
    "type": "quiz_session_name"
   },
   "source": [
    "### 3.1.2 画像データのフォーマット"
   ]
  },
  {
   "cell_type": "markdown",
   "metadata": {
    "type": "description"
   },
   "source": [
    "画像にはいくつかの種類（画像フォーマット）があります。代表的なものを以下に紹介します。\n",
    "<br>\n",
    "<img src=\"https://aidemyexstorage.blob.core.windows.net/aidemycontents/152974608457650.png\">\n",
    "<br>\n",
    "前エクササイズで説明した通り、画像は点の集合であり、それぞれの点がRed, Green, Blueの色情報を持っているので、画像のサイズが非常に大きくなります。上の表の右端のBMPは無圧縮、つまり色の情報をそのまま保持します。そのため赤一色の画像（緑と青の色情報がない）であっても緑と青の色情報を保存する領域を確保するため、サイズが非常に大きくなります。\n",
    "BMP以外は色情報を効率的に圧縮する工夫をしています。JPGは写真を扱う事が得意で元の写真を大きく圧縮できますが、圧縮後の写真を元の写真に戻せなくなってしまう特徴があり、これを非可逆圧縮と言います。それに対してPNGは写真の圧縮率はJPGに劣るものの、可逆圧縮であり、圧縮した画像を元のクオリティに完全に戻す事ができます。GIFは古いフォーマットなので色数や圧縮率では劣りますが、簡単なアニメーションを表現する事ができます。"
   ]
  },
  {
   "cell_type": "markdown",
   "metadata": {},
   "source": [
    "#### 問題"
   ]
  },
  {
   "cell_type": "markdown",
   "metadata": {
    "type": "question"
   },
   "source": [
    "- アニメーションの表現に適している画像フォーマットを選択してください。"
   ]
  },
  {
   "cell_type": "markdown",
   "metadata": {
    "type": "choices"
   },
   "source": [
    "1. PNG \n",
    "1. JPG\n",
    "1. BMP\n",
    "1. GIF"
   ]
  },
  {
   "cell_type": "markdown",
   "metadata": {},
   "source": [
    "#### ヒント"
   ]
  },
  {
   "cell_type": "markdown",
   "metadata": {
    "type": "hint"
   },
   "source": [
    "- 表現できる色数が少ないフォーマットです。"
   ]
  },
  {
   "cell_type": "markdown",
   "metadata": {},
   "source": [
    "#### 解答"
   ]
  },
  {
   "cell_type": "markdown",
   "metadata": {
    "type": "answer"
   },
   "source": [
    "GIF"
   ]
  },
  {
   "cell_type": "markdown",
   "metadata": {},
   "source": [
    "***"
   ]
  },
  {
   "cell_type": "markdown",
   "metadata": {
    "courseId": 4050,
    "exerciseId": "SkiDt38oLgG",
    "important": false,
    "isDL": false,
    "timeoutSecs": 5,
    "type": "quiz_session_name"
   },
   "source": [
    "### 3.1.3 透過データ"
   ]
  },
  {
   "cell_type": "markdown",
   "metadata": {
    "type": "description"
   },
   "source": [
    "画像の背景を透明にすることを透過といいます。透過させる方法は、ソフトを使ったり、画像の作成段階で透過させたり色々な方法があります。なお、後に紹介するOpenCVでも可能ですが、本コースでは扱いません。<br>\n",
    "<br>\n",
    "非透過PNG\n",
    "<img src=\"https://aidemyexstorage.blob.core.windows.net/aidemycontents/1529748720992822.png\" alt=\"非透過\">\n",
    "<br>\n",
    "<br>\n",
    "透過PNG\n",
    "<img src=\"https://aidemyexstorage.blob.core.windows.net/aidemycontents/1529750614672625.png\" alt=\"透過\">\n",
    "<br>\n",
    "透過処理をサポートしている画像フォーマットはGIFとPNGですが、表示するプログラムがどのように色を扱うかによっても見え方は異なります。例えば、BMPは透過処理をサポートしていませんが、BMPで作られているアイコン画像が透過されているように見える場合があります。これはアイコンを表示するプログラムが特定の位置の色を透過色として扱うためです。"
   ]
  },
  {
   "cell_type": "markdown",
   "metadata": {},
   "source": [
    "#### 問題"
   ]
  },
  {
   "cell_type": "markdown",
   "metadata": {
    "type": "question"
   },
   "source": [
    "- 透過処理がサポートされていない画像フォーマットを選択してください。"
   ]
  },
  {
   "cell_type": "markdown",
   "metadata": {
    "type": "choices"
   },
   "source": [
    "1. JPG\n",
    "1. GIF\n",
    "1. PNG\n",
    "1. 上記の全て"
   ]
  },
  {
   "cell_type": "markdown",
   "metadata": {},
   "source": [
    "#### ヒント"
   ]
  },
  {
   "cell_type": "markdown",
   "metadata": {
    "type": "hint"
   },
   "source": [
    "- 比較的画像サイズが小さいフォーマットです。"
   ]
  },
  {
   "cell_type": "markdown",
   "metadata": {},
   "source": [
    "#### 解答"
   ]
  },
  {
   "cell_type": "markdown",
   "metadata": {
    "type": "answer"
   },
   "source": [
    "JPG"
   ]
  },
  {
   "cell_type": "markdown",
   "metadata": {},
   "source": [
    "***"
   ]
  },
  {
   "cell_type": "markdown",
   "metadata": {
    "sectionId": "BJDZ_RQZe-M",
    "type": "section_name"
   },
   "source": [
    "## 3.2 OpenCVの基礎"
   ]
  },
  {
   "cell_type": "markdown",
   "metadata": {
    "courseId": 4050,
    "exerciseId": "HJ3PY2Us8xM",
    "important": true,
    "isDL": false,
    "timeoutSecs": 5,
    "type": "code_session_name"
   },
   "source": [
    "### 3.2.1 画像の読み込み・表示"
   ]
  },
  {
   "cell_type": "markdown",
   "metadata": {
    "type": "description"
   },
   "source": [
    "OpenCVは、画像を扱うのに便利なライブラリです。このセクションではcv2を用いた基本的な画像の取り扱いについて学びます。<br>\n",
    "<br>\n",
    "まずは画像を読み込んで、出力します。<br>\n",
    "画像を読み込むにはOpenCVの<b style='color: #AA0000'>cv2.imread()</b>関数を用います。\n",
    "```Python\n",
    "cv2.imread(\"ファイル名\")\n",
    "```\n",
    "画像を出力するには<b style='color: #AA0000'>cv2.imshow()</b>関数を用います。画像を表示するウィンドウのサイズは自動で調整されます。\n",
    "```Python\n",
    "cv2.imshow(\"ウィンドウ名\", 読み込んだ画像データ)\n",
    "```\n",
    "***\n",
    "画像を読み込んで、出力してみます。\n",
    "```Python\n",
    "# ライブラリをインポートします\n",
    "import numpy as np\n",
    "import cv2\n",
    "\n",
    "# 画像を読み込みます\n",
    "img = cv2.imread(\"./4050_data_cleansing_data/sample.jpg\")\n",
    "\n",
    "# 画像を表示するウィンドウの名前は\"sample\"\n",
    "# 読み込んだ画像は\"img\"です\n",
    "cv2.imshow(\"sample\", img)\n",
    "```"
   ]
  },
  {
   "cell_type": "markdown",
   "metadata": {},
   "source": [
    "#### 問題"
   ]
  },
  {
   "cell_type": "markdown",
   "metadata": {
    "type": "question"
   },
   "source": [
    "- フォルダ「4050_data_cleansing_data」内の画像`sample.jpg`を出力してください。\n",
    "- ウィンドウ名は`sample`としてください。"
   ]
  },
  {
   "cell_type": "code",
   "execution_count": null,
   "metadata": {
    "type": "index"
   },
   "outputs": [],
   "source": [
    "import numpy as np\n",
    "import cv2\n",
    "\n",
    "# OpenCVを用いて画像を読み込んでください\n",
    "\n",
    "\n",
    "# 画像を出力してください\n"
   ]
  },
  {
   "cell_type": "markdown",
   "metadata": {},
   "source": [
    "#### ヒント"
   ]
  },
  {
   "cell_type": "markdown",
   "metadata": {
    "type": "hint"
   },
   "source": [
    "- `cv2.imread(\"ファイル名\")`で画像を読み込むことができます。\n",
    "- `cv2.imshow(\"ウィンドウ名\", 画像データ)`で画像を出力することができます。"
   ]
  },
  {
   "cell_type": "markdown",
   "metadata": {},
   "source": [
    "#### 解答例"
   ]
  },
  {
   "cell_type": "code",
   "execution_count": null,
   "metadata": {
    "config": [
     "tutor"
    ],
    "scrolled": true,
    "type": "answer"
   },
   "outputs": [],
   "source": [
    "import numpy as np\n",
    "import cv2\n",
    "\n",
    "# OpenCVを用いて画像を読み込んでください\n",
    "img = cv2.imread(\"./4050_data_cleansing_data/sample.jpg\")\n",
    "\n",
    "# 画像を出力してください\n",
    "cv2.imshow(\"sample\", img)"
   ]
  },
  {
   "cell_type": "code",
   "execution_count": null,
   "metadata": {
    "type": "sct"
   },
   "outputs": [],
   "source": [
    "index_code_contains(\"imread\", failure_msg=\"imreadを用いて画像を読み込んでください。\")\n",
    "index_code_contains(\"data\\/sample\\.jpg\", failure_msg=\"4050_cleansing_data/sample.jpgを読み込んでください。\")\n",
    "index_code_contains(\"imshow\", failure_msg=\"imshowを用いて画像を表示してください。\")"
   ]
  },
  {
   "cell_type": "markdown",
   "metadata": {},
   "source": [
    "***"
   ]
  },
  {
   "cell_type": "markdown",
   "metadata": {
    "courseId": 4050,
    "exerciseId": "rk6vt2LsUgG",
    "important": true,
    "isDL": false,
    "timeoutSecs": 5,
    "type": "code_session_name"
   },
   "source": [
    "### 3.2.2 画像の作成と保存"
   ]
  },
  {
   "cell_type": "markdown",
   "metadata": {
    "type": "description"
   },
   "source": [
    "単色画像の作成と保存の方法です。cv2で画像を処理する際は色の指定の順番はRGBではなく、BGRになるので注意が必要です。 <br>\n",
    "<br>\n",
    "画像の作成にはNumPyの行列を作成する<b style='color: #AA0000'>np.array()</b>関数を用い、さらに`for`文と`range()`関数を組み合わせた多重ループにより各ピクセルの色情報を並べて描画するような処理を行います。下のサンプルコードは、`[B, G, R]` の値を指定し、1つめのforで横に512枚の画像、2つめのforで縦に512枚の画像を作成する多重ループとなっています。<br>\n",
    "データ型には、8ビット符号なしの整数型で値の範囲が0～255と定められている`uint8`を指定します。B, G, Rの色情報は<a href='/courses/4050/exercises/BJtvth8jIlM' target='_blank'>3.1.1 RGBデータ</a>で学んだ通り、0〜255の範囲で表現されるためです。\n",
    "```Python\n",
    "np.array([[[B, G, R] for _ in range(横の画像サイズ)] for _ in range(縦の画像サイズ)], dtype=\"uint8\")\n",
    "```\n",
    "「`for _ in range`」の \\_ は、for文で処理を繰り返す際に、\\_ にあたる変数名を明示しない場合に使用します。<br>\n",
    "<br>\n",
    "画像を保存するにはOpenCVの<b style='color: #AA0000'>cv2.imwrite()</b>関数を用います。\n",
    "```Python\n",
    "cv2.imwrite(\"ファイル名\", 作成した画像データ)\n",
    "```\n",
    "***\n",
    "例えば、画像サイズが縦512px、横512pxの赤一色の画像を作成します。\n",
    "```Python\n",
    "import numpy as np\n",
    "import cv2\n",
    "\n",
    "# 画像のサイズを決めます\n",
    "img_size = (512, 512)\n",
    "\n",
    "# 画像の情報を持つ行列をNumPyで作ります\n",
    "# 赤色の画像なので各要素が[0, 0, 255]の、512 * 512の行列を作ることを考えます\n",
    "# 行列が転置されることに注意します\n",
    "# 画像データの各要素は、0~255の値しか取らないので、このことを明示するためにdtypeオプションでデータ型を定めます\n",
    "my_img = np.array([[[0, 0, 255] for _ in range(img_size[1])] for _ in range(img_size[0])], dtype=\"uint8\")\n",
    "\n",
    "# 表示\n",
    "cv2.imshow(\"sample\", my_img)\n",
    "\n",
    "# 保存\n",
    "# ファイル名は\"my_red_img.jpg\"\n",
    "cv2.imwrite(\"my_red_img.jpg\", my_img)\n",
    "```"
   ]
  },
  {
   "cell_type": "markdown",
   "metadata": {},
   "source": [
    "#### 問題"
   ]
  },
  {
   "cell_type": "markdown",
   "metadata": {
    "type": "question"
   },
   "source": [
    "- 画像サイズが512 $\\times$ 512ピクセルの緑色の画像を作成し、表示してください。<br>\n",
    "緑色のRGBは[0, 255, 0]です。\n",
    "- 作成した画像をファイル名\"my_green_img.jpg\"で保存してください。"
   ]
  },
  {
   "cell_type": "code",
   "execution_count": null,
   "metadata": {
    "type": "index"
   },
   "outputs": [],
   "source": [
    "import numpy as np\n",
    "import cv2\n",
    "\n",
    "# 画像のサイズを決める\n",
    "img_size = \n",
    "\n",
    "# サイズが512 × 512の緑色の画像を作ってください\n",
    "\n",
    "\n",
    "# 作成した画像を表示してください\n",
    "\n",
    "\n",
    "# 画像をファイル名\"my_green_img.jpg\"で保存してください\n"
   ]
  },
  {
   "cell_type": "markdown",
   "metadata": {},
   "source": [
    "#### ヒント"
   ]
  },
  {
   "cell_type": "markdown",
   "metadata": {
    "type": "hint"
   },
   "source": [
    "- for文を用い、各要素が`[0, 255, 0]`の512$\\times$512のnp.arrayを作ります。\n",
    "- `cv2.imshow(\"ウィンドウ名\", 画像データ)`で画像を出力することができます。\n",
    "- `cv2.imwrite(\"ファイル名\", 画像データ)`でファイルを保存することができます。"
   ]
  },
  {
   "cell_type": "markdown",
   "metadata": {},
   "source": [
    "#### 解答例"
   ]
  },
  {
   "cell_type": "code",
   "execution_count": null,
   "metadata": {
    "type": "answer"
   },
   "outputs": [],
   "source": [
    "import numpy as np\n",
    "import cv2\n",
    "\n",
    "# 画像のサイズを決める\n",
    "img_size = (512, 512)\n",
    "\n",
    "# サイズが512 × 512の緑色の画像を作ってください\n",
    "img = np.array([[[0, 255, 0] for _ in range(img_size[1])] for _ in range(img_size[0])], dtype=\"uint8\")\n",
    "\n",
    "# 作成した画像を表示してください\n",
    "cv2.imshow(\"sample\", img)\n",
    "\n",
    "# 画像をファイル名\"my_green_img.jpg\"で保存してください\n",
    "cv2.imwrite(\"my_green_img.jpg\", img)"
   ]
  },
  {
   "cell_type": "code",
   "execution_count": null,
   "metadata": {
    "type": "sct"
   },
   "outputs": [],
   "source": [
    "index_code_contains(\"\\[0,255,0\", failure_msg=\"緑色の画像を作成してください。\")\n",
    "index_code_contains(\"imshow\", failure_msg=\"imshowを用いて画像を表示してください。\")\n",
    "index_code_contains(\"imwrite\", failure_msg=\"imwriteを用いて画像を保存してください。\")\n",
    "index_code_contains(\"my\\_green\\_img\\.jpg\", failure_msg=\"ファイル名はmy_green_img.jpgです。\")"
   ]
  },
  {
   "cell_type": "markdown",
   "metadata": {},
   "source": [
    "***"
   ]
  },
  {
   "cell_type": "markdown",
   "metadata": {
    "courseId": 4050,
    "exerciseId": "HyCPt28o8lz",
    "important": true,
    "isDL": false,
    "timeoutSecs": 5,
    "type": "code_session_name"
   },
   "source": [
    "### 3.2.3 トリミングとリサイズ"
   ]
  },
  {
   "cell_type": "markdown",
   "metadata": {
    "type": "description"
   },
   "source": [
    "画像のトリミングとリサイズの方法です。トリミングとは画像の一部を取り出す操作のことで、リサイズとは画像のサイズを変える（拡大、縮小）することです。<br>\n",
    "<br>\n",
    "トリミングは画像を表す行列を範囲指定することで、画像の指定した部分を四角く切り取ります。<br>\n",
    "範囲指定をする際、画像の左上が`0`です。\n",
    "\n",
    "```Python\n",
    "img[y始点：y終点, x始点：x終点]\n",
    "```\n",
    "\n",
    "リサイズは<b style='color: #AA0000'>cv2.resize()</b>関数を用います。\n",
    "\n",
    "```Python\n",
    "cv2.resize(画像データ, (リサイズ後の幅, リサイズ後の高さ))\n",
    "```\n",
    "\n",
    "***\n",
    "\n",
    "```Python\n",
    "import numpy as np\n",
    "import cv2\n",
    "import matplotlib.pyplot as plt\n",
    "\n",
    "# 画像を読み込む\n",
    "# cv2.imread は画像をNumPyのndarray型で読み込む\n",
    "img = cv2.imread(\"./4050_data_cleansing_data/sample.jpg\")\n",
    "\n",
    "# 読み込んだ画像データは（高さ　x 幅 x 色数)の3重配列\n",
    "size = img.shape # サイズ (1000, 667, 3)\n",
    "\n",
    "# 範囲を指定して取り出す（範囲指定は固定値もスライスも可能）\n",
    "# n等分したい時はサイズの商を取るが、小数点以下は切り捨てる\n",
    "my_img = img[: size[0] // 2, : size[1] // 3]\n",
    "\n",
    "# 新たにサイズを指定する際、(幅, 高さ)の順になる\n",
    "# 元の倍率を保ったまま、幅と高さをそれぞれ2倍する場合\n",
    "my_img = cv2.resize(my_img, (my_img.shape[1] * 2, my_img.shape[0] * 2))\n",
    "\n",
    "# 表示\n",
    "# トリミングおよびリサイズで指定した範囲が分かりやすいように目盛りが表示されるMatplotlib を用いて表示\n",
    "my_img = cv2.cvtColor(my_img, cv2.COLOR_BGR2RGB)\n",
    "plt.imshow(my_img)\n",
    "plt.show()\n",
    "\n",
    "# cv2.imshowで表示する場合\n",
    "# cv2.imshow(\"sample\", my_img)\n",
    "```\n",
    "\n",
    "***\n",
    "リサイズの応用として、画像を縮小して画素数を落としてから元のサイズに戻すと、画像にモザイクをかけることができます。"
   ]
  },
  {
   "cell_type": "markdown",
   "metadata": {},
   "source": [
    "#### 問題"
   ]
  },
  {
   "cell_type": "markdown",
   "metadata": {
    "type": "question"
   },
   "source": [
    "- サンプルコードで使用した`sample.jpg`の幅、高さをそれぞれ1/3にリサイズしてください。"
   ]
  },
  {
   "cell_type": "code",
   "execution_count": null,
   "metadata": {
    "type": "index"
   },
   "outputs": [],
   "source": [
    "import numpy as np\n",
    "import cv2\n",
    "\n",
    "img = cv2.imread(\"./4050_data_cleansing_data/sample.jpg\")\n",
    "print(img.shape)\n",
    "\n",
    "# 幅、高さをそれぞれ1/3にリサイズします\n",
    "my_img = \n",
    "\n",
    "# 出力\n",
    "cv2.imshow(\"sample\", my_img)\n",
    "print(my_img.shape)"
   ]
  },
  {
   "cell_type": "markdown",
   "metadata": {},
   "source": [
    "#### ヒント"
   ]
  },
  {
   "cell_type": "markdown",
   "metadata": {
    "type": "hint"
   },
   "source": [
    "- 画像のリサイズは`cv2.resize(画像データ, (リサイズ後の幅, リサイズ後の高さ))`を用います。\n",
    "- img.shapeで画像の行(高さ)、列(幅)を取得しその値を1/3します。"
   ]
  },
  {
   "cell_type": "markdown",
   "metadata": {},
   "source": [
    "#### 解答例"
   ]
  },
  {
   "cell_type": "code",
   "execution_count": null,
   "metadata": {
    "type": "answer"
   },
   "outputs": [],
   "source": [
    "import numpy as np\n",
    "import cv2\n",
    "\n",
    "img = cv2.imread(\"./4050_data_cleansing_data/sample.jpg\")\n",
    "print(img.shape)\n",
    "\n",
    "# 幅、高さをそれぞれ1/3にリサイズします\n",
    "my_img = cv2.resize(img, (img.shape[1] // 3, img.shape[0] // 3))\n",
    "\n",
    "# 出力\n",
    "cv2.imshow(\"sample\", my_img)\n",
    "print(my_img.shape)"
   ]
  },
  {
   "cell_type": "code",
   "execution_count": null,
   "metadata": {
    "type": "sct"
   },
   "outputs": [],
   "source": [
    "index_code_contains(\"imread\", failure_msg=\"imreadを用いて画像を読み込んでください。\")\n",
    "index_code_contains(\"sample.jpg\", failure_msg=\"sample.jpgを読み込んでください。\")\n",
    "index_code_contains(\"resize\", failure_msg=\"resizeを用いてリサイズをしてください。\")\n",
    "index_code_contains(\"0\\](?:\\/)?\\/3\", failure_msg=\"1/3にリサイズしてください。\")\n",
    "index_code_contains(\"1\\](?:\\/)?\\/3\", failure_msg=\"1/3にリサイズしてください。\")\n",
    "index_code_contains(\"imshow\", failure_msg=\"imshowを用いて画像を表示してください。\")"
   ]
  },
  {
   "cell_type": "markdown",
   "metadata": {},
   "source": [
    "***"
   ]
  },
  {
   "cell_type": "markdown",
   "metadata": {
    "courseId": 4050,
    "exerciseId": "ryJuKn8sUeG",
    "important": true,
    "isDL": false,
    "timeoutSecs": 5,
    "type": "code_session_name"
   },
   "source": [
    "### 3.2.4 回転・反転"
   ]
  },
  {
   "cell_type": "markdown",
   "metadata": {
    "type": "description"
   },
   "source": [
    "画像を回転するには<b style='color:#AA0000'>cv2.warpAffine()</b>関数を用います。この関数は<b>アフィン変換</b>と呼ばれる幾何変換を行います。<br>\n",
    "アフィン変換は平行移動と線形変換（拡大・縮小、剪断（スキュー）、回転）の組み合わせで表現されます。\n",
    "\n",
    "```Python\n",
    "cv2.warpAffine(元の画像データ, 変換行列, 出力画像のサイズ)\n",
    "```\n",
    "\n",
    "パラメータは以下の通りです。\n",
    "- 第一引数：回転する元画像データ（NumPy配列ndarray）<br>\n",
    "- 第二引数：変換行列（NumPy配列ndarray）<br>\n",
    "- 第三引数：出力画像のサイズ（タプル）\n",
    "\n",
    "第二引数に指定する変換行列は<b style='color:#AA0000'>cv2.getRotationMatrix2D()</b>関数で取得します。\n",
    "\n",
    "```Python\n",
    "cv2.getRotationMatrix2D(画像の中心の座標,　回転させたい角度,　拡縮倍率)\n",
    "```\n",
    "\n",
    "パラメータは以下の通りです。\n",
    "- 第一引数：画像の中心の座標（タプル）<br>\n",
    "- 第二引数：回転させたい角度（ラジアンではありません）<br>\n",
    "- 第三引数：拡大・縮小の倍率（等倍が`1.0`です）\n",
    "\n",
    "```Python\n",
    "import numpy as np\n",
    "import cv2\n",
    "\n",
    "img = cv2.imread(\"./4050_data_cleansing_data/sample.jpg\") # サイズ (1000, 667, 3)\n",
    "\n",
    "# warpAffine()関数の第二引数である`変換行列`を取得します\n",
    "mat = cv2.getRotationMatrix2D(tuple(np.array([img.shape[1], img.shape[0]]) / 2), 180, 2.0)\n",
    "\n",
    "# 倍率2倍で180度回転します\n",
    "my_img = cv2.warpAffine(img, mat, img.shape[::-1][1:3])\n",
    "\n",
    "cv2.imshow(\"sample\", my_img)\n",
    "```\n",
    "\n",
    "***\n",
    "反転は<b style='color:#AA0000'>cv2.flip()</b>関数を用います。対象とする軸が0のときx軸中心に（上下反転）、正のときy軸中心に（左右反転）、負のとき両方の軸を中心に反転します。\n",
    "\n",
    "```Python\n",
    "cv2.flip(画像データ, 軸)\n",
    "```\n",
    "\n",
    "パラメータは以下の通りです。\n",
    "- 第一引数：反転する元画像データ<br>\n",
    "- 第二引数：対象の軸\n",
    "\n",
    "```Python\n",
    "import numpy as np\n",
    "import cv2\n",
    "\n",
    "img = cv2.imread(\"./4050_data_cleansing_data/sample.jpg\")\n",
    "\n",
    "# x軸y軸両方の軸を中心に反転します\n",
    "my_img = cv2.flip(img, -1)\n",
    "\n",
    "cv2.imshow(\"sample\", my_img)\n",
    "```"
   ]
  },
  {
   "cell_type": "markdown",
   "metadata": {},
   "source": [
    "#### 問題"
   ]
  },
  {
   "cell_type": "markdown",
   "metadata": {
    "type": "question"
   },
   "source": [
    "- 画像をx軸を中心に反転してください。 "
   ]
  },
  {
   "cell_type": "code",
   "execution_count": null,
   "metadata": {
    "type": "index"
   },
   "outputs": [],
   "source": [
    "import numpy as np\n",
    "import cv2\n",
    "\n",
    "img = cv2.imread(\"./4050_data_cleansing_data/sample.jpg\")\n",
    "\n",
    "# x軸を中心に反転してください\n",
    "\n",
    "\n",
    "cv2.imshow(\"sample\", my_img)"
   ]
  },
  {
   "cell_type": "markdown",
   "metadata": {},
   "source": [
    "#### ヒント"
   ]
  },
  {
   "cell_type": "markdown",
   "metadata": {
    "type": "hint"
   },
   "source": [
    "- `cv2.flip()`は引数が0のときx軸中心に、正のときy軸中心に、負のとき両方の軸を中心に反転します。"
   ]
  },
  {
   "cell_type": "markdown",
   "metadata": {},
   "source": [
    "#### 解答例"
   ]
  },
  {
   "cell_type": "code",
   "execution_count": null,
   "metadata": {
    "type": "answer"
   },
   "outputs": [],
   "source": [
    "import numpy as np\n",
    "import cv2\n",
    "\n",
    "img = cv2.imread(\"./4050_data_cleansing_data/sample.jpg\")\n",
    "\n",
    "# x軸を中心に反転してください\n",
    "my_img = cv2.flip(img, 0)\n",
    "\n",
    "cv2.imshow(\"sample\", my_img)"
   ]
  },
  {
   "cell_type": "code",
   "execution_count": null,
   "metadata": {
    "type": "sct"
   },
   "outputs": [],
   "source": [
    "index_code_contains(\"imread\", failure_msg=\"imreadを用いて画像を読み込んでください。\")\n",
    "index_code_contains(\"sample.jpg\", failure_msg=\"sample.jpgを読み込んでください。\")\n",
    "index_code_contains(\"flip\", failure_msg=\"flipを用いて画像を反転してください。\")\n",
    "index_code_contains(\"0\", failure_msg=\"x軸を中心に反転してください。\")\n",
    "index_code_contains(\"imshow\", failure_msg=\"imshowを用いて画像を表示してください。\")"
   ]
  },
  {
   "cell_type": "markdown",
   "metadata": {},
   "source": [
    "***"
   ]
  },
  {
   "cell_type": "markdown",
   "metadata": {
    "courseId": 4050,
    "exerciseId": "SJg_K3UsIgf",
    "important": true,
    "isDL": false,
    "timeoutSecs": 15,
    "type": "code_session_name"
   },
   "source": [
    "### 3.2.5 色調変換・色反転"
   ]
  },
  {
   "cell_type": "markdown",
   "metadata": {
    "type": "description"
   },
   "source": [
    "画像を他の色空間に変換します。OpenCVは色々な色空間をサポートしており、<b style='color: #AA0000'>cv2.cvtColor()</b>関数を用いて相互に変換することが可能です。\n",
    "```Python\n",
    "cv2.cvtColor(画像データ, 他の色空間に変換するcode)\n",
    "```\n",
    "例えば、BGR色空間の画像をLab色空間に変換します。Lab色空間は、人間の視覚に近似するよう設計されている点が優れている表色系です。\n",
    "```Python\n",
    "import numpy as np\n",
    "import cv2\n",
    "\n",
    "img = cv2.imread(\"./4050_data_cleansing_data/sample.jpg\")\n",
    "\n",
    "# BGRをLab色空間に変換\n",
    "my_img = cv2.cvtColor(img, cv2.COLOR_BGR2LAB)\n",
    "\n",
    "cv2.imshow(\"BGR to LAB\", my_img)\n",
    "```\n",
    "cv2.imreadはデフォルトでBGR色空間で画像を読み込みますが、例えば、MatplotlibやSciPyのデフォルトはRGBです。<a href='/courses/4050/exercises/HyCPt28o8lz' target='_blank'>3.2.3 トリミングとリサイズ</a>の説明内で目盛りを表示するためにMatplotlibで画像を表示していますが、その際には`COLOR_BGR2RGB`を用いました。また、`COLOR_BGR2GRAY`を用いると、グレースケールに変換することができます。<br>\n",
    "その他の変換コードは<a href='https://docs.opencv.org/3.4.0/d7/d1b/group__imgproc__misc.html#ga4e0972be5de079fed4e3a10e24ef5ef0' target='_blank'>OpenCVの公式サイト</a>をご参照ください。\n",
    "***\n",
    "画像の色を反転させることをネガポジ反転といいます。モノクロ画像の場合は白黒反転し、フルカラー画像の場合は補色反転を行います。<br>\n",
    "RGBの値は0〜255で構成されているので、ある画素値xを255-xに置き換えることで色を反転できます。OpenCVで読み込んだ画素値は3次元のnumpy配列になっています。その配列を１画素ずつRGBチャネルごとにxから255-xに書き換えます。\n",
    "```Python\n",
    "# 各画素の座標(i, j)とRGBチャネル(k)を指定して変換前の画素値を取得\n",
    "img[i][j][k] = x\n",
    "```\n",
    "for文と、len(img[i])で座標を取得して各画素に順番にアクセスし、RGBチャネルごとに画素値を変換していきます。\n",
    "```Python\n",
    "import numpy as np\n",
    "import cv2\n",
    "\n",
    "img = cv2.imread(\"./4050_data_cleansing_data/sample.jpg\")\n",
    "# img.shapeは(1000, 667, 3)\n",
    "# それぞれが i, j, k の値となる\n",
    "\n",
    "# 画素の座標(i, j)を取得\n",
    "for i in range(len(img)):\n",
    "    for j in range(len(img[i])):\n",
    "        # RGBチャネル(k:0-2)を取得\n",
    "        for k in range(len(img[i][j])):\n",
    "            # 座標(i, j)のRGBチャネル(k:0-2)ごとに画素値を変換\n",
    "            img[i][j][k] = 255 - img[i][j][k]\n",
    "\n",
    "cv2.imshow(\"sample\", img)\n",
    "```\n",
    "OpenCVでは<b style='color: #AA0000'>cv2.bitwise_not()</b>関数を用いて反転します。\n",
    "```Python\n",
    "img = cv2.bitwise_not(画像データ)\n",
    "```\n",
    "`cv2.bitwise()`関数は8bitで表わされている各画素のビットを操作することができます。`not`で各ビットを反転させます。"
   ]
  },
  {
   "cell_type": "markdown",
   "metadata": {},
   "source": [
    "#### 問題"
   ]
  },
  {
   "cell_type": "markdown",
   "metadata": {
    "type": "question"
   },
   "source": [
    "- `sample.jpg`の色をOpenCVの関数を用いて色反転してください。"
   ]
  },
  {
   "cell_type": "code",
   "execution_count": null,
   "metadata": {
    "type": "index"
   },
   "outputs": [],
   "source": [
    "import numpy as np\n",
    "import cv2\n",
    "\n",
    "img = cv2.imread(\"./4050_data_cleansing_data/sample.jpg\")\n",
    "\n",
    "# OpenCVで色を反転します\n",
    "\n",
    "\n",
    "cv2.imshow(\"sample\", my_img)"
   ]
  },
  {
   "cell_type": "markdown",
   "metadata": {},
   "source": [
    "#### ヒント"
   ]
  },
  {
   "cell_type": "markdown",
   "metadata": {
    "type": "hint"
   },
   "source": [
    "- 色を反転するには`cv2.bitwise_not()`関数を用います。"
   ]
  },
  {
   "cell_type": "markdown",
   "metadata": {},
   "source": [
    "#### 解答例"
   ]
  },
  {
   "cell_type": "code",
   "execution_count": null,
   "metadata": {
    "type": "answer"
   },
   "outputs": [],
   "source": [
    "import numpy as np\n",
    "import cv2\n",
    "\n",
    "img = cv2.imread(\"./4050_data_cleansing_data/sample.jpg\")\n",
    "\n",
    "# OpenCVで色を反転します\n",
    "my_img = cv2.bitwise_not(img)\n",
    "\n",
    "cv2.imshow(\"sample\", my_img)"
   ]
  },
  {
   "cell_type": "code",
   "execution_count": null,
   "metadata": {
    "type": "sct"
   },
   "outputs": [],
   "source": [
    "index_code_contains(\"imread\", failure_msg=\"imreadを用いて画像を読み込んでください。\")\n",
    "index_code_contains(\"sample\\.jpg\", failure_msg=\"sample.jpgを読み込んでください。\")\n",
    "index_code_contains(\"bitwise\\_not\", failure_msg=\"bitwise_notを用いて画像を読み込んでください。\")\n",
    "index_code_contains(\"imshow\", failure_msg=\"imshowを用いて画像を表示してください。\")"
   ]
  },
  {
   "cell_type": "markdown",
   "metadata": {},
   "source": [
    "***"
   ]
  },
  {
   "cell_type": "markdown",
   "metadata": {
    "sectionId": "rkubu0X-e-f",
    "type": "section_name"
   },
   "source": [
    "## 3.3 OpenCVの利用"
   ]
  },
  {
   "cell_type": "markdown",
   "metadata": {
    "courseId": 4050,
    "exerciseId": "HkbOY2Io8xf",
    "important": true,
    "isDL": false,
    "timeoutSecs": 5,
    "type": "code_session_name"
   },
   "source": [
    "### 3.3.1 閾値処理（二値化）"
   ]
  },
  {
   "cell_type": "markdown",
   "metadata": {
    "type": "description"
   },
   "source": [
    "画像の容量を小さくするために、一定以上明るい色、あるいは一定以上暗い色をすべて同じ値にする、要は白と黒に二値化する処理を閾値（しきいち）処理と呼びます。閾値処理は<b style='color: #AA0000'>cv2.threshold()</b>関数を用います。\n",
    "```Python\n",
    "cv2.threshold(画像データ, 閾値, 最大値 maxValue, 閾値処理の種類)\n",
    "```\n",
    "パラメータは以下の通りです。\n",
    "- 第一引数：二値化する元画像ファイル名\n",
    "- 第二引数：閾値とする画素値\n",
    "- 第三引数：閾値に対する最大濃度の値\n",
    "- 第四引数：OpenCVの閾値処理の種類（THRESH_BINARY, THRESH_BINARY_INV, THRESH_TRUNC, THRESH_TOZERO, THRESH_TOZERO_INVのいずれか）\n",
    "\n",
    "第四引数の閾値処理の種類は以下の通りです。\n",
    "- THRESH_BINARY　  ： 閾値を超えるピクセルは maxValue に、それ以外のピクセルは 0 になります\n",
    "- THRESH_BINARY_INV： 閾値を超えるピクセルは 0 に、それ以外のピクセルは maxValue になります\n",
    "- THRESH_TRUNC　   ： 閾値を超えるピクセルは 閾値 に、それ以外のピクセルは変更されません\n",
    "- THRESH_TOZERO　  ： 閾値を超えるピクセルは変更されず、それ以外のピクセルは 0 になります\n",
    "- THRESH_TOZERO_INV： 閾値を超えるピクセルは 0 に、それ以外のピクセルは変更されません\n",
    "\n",
    "閾値処理の種類により様々な閾値処理を行うことができます。\n",
    "```Python\n",
    "import numpy as np\n",
    "import cv2\n",
    "\n",
    "# カラー画像をグレースケールで読み込む（cv2.IMREAD_GRAYSCALE または 0）\n",
    "img = cv2.imread(\"./4050_data_cleansing_data/sample.jpg\", 0)\n",
    "\n",
    "# THRESH_TOZEROを使い、閾値を150、最大値を255 に設定します\n",
    "# 閾値も返されるので retval で受け取ります\n",
    "retval, my_img = cv2.threshold(img, 150, 255, cv2.THRESH_TOZERO)\n",
    "\n",
    "cv2.imshow(\"original\", img)\n",
    "cv2.imshow(\"sample\", my_img)\n",
    "print(retval)\n",
    "```"
   ]
  },
  {
   "cell_type": "markdown",
   "metadata": {},
   "source": [
    "#### 問題"
   ]
  },
  {
   "cell_type": "markdown",
   "metadata": {
    "type": "question"
   },
   "source": [
    "- 閾値を100にし、それ以下を0, それ以上を255にして二値化して出力してください。\n",
    "- 閾値の返り値も取得してprint文で出力してください。"
   ]
  },
  {
   "cell_type": "code",
   "execution_count": null,
   "metadata": {
    "type": "index"
   },
   "outputs": [],
   "source": [
    "import numpy as np\n",
    "import cv2\n",
    "\n",
    "img = cv2.imread(\"./4050_data_cleansing_data/sample.jpg\", 0)\n",
    "\n",
    "# 閾値100、それ以下を0、それ以上を255にして二値化してください\n",
    "# 同時に閾値も取得してください\n",
    "\n",
    "\n",
    "# 出力\n",
    "\n"
   ]
  },
  {
   "cell_type": "markdown",
   "metadata": {},
   "source": [
    "#### ヒント"
   ]
  },
  {
   "cell_type": "markdown",
   "metadata": {
    "type": "hint"
   },
   "source": [
    "- 閾値より大きい値はmaxValueに、それ以外は0になる`THRESH_BINARY`を用います。"
   ]
  },
  {
   "cell_type": "markdown",
   "metadata": {},
   "source": [
    "#### 解答例"
   ]
  },
  {
   "cell_type": "code",
   "execution_count": null,
   "metadata": {
    "type": "answer"
   },
   "outputs": [],
   "source": [
    "import numpy as np\n",
    "import cv2\n",
    "\n",
    "img = cv2.imread(\"./4050_data_cleansing_data/sample.jpg\", 0)\n",
    "\n",
    "# 閾値100、それ以下を0、それ以上を255にして二値化してください\n",
    "# 同時に閾値も取得してください\n",
    "retval, my_img = cv2.threshold(img, 100, 255, cv2.THRESH_BINARY)\n",
    "\n",
    "# 出力\n",
    "cv2.imshow(\"sample\", my_img)\n",
    "print(retval)"
   ]
  },
  {
   "cell_type": "code",
   "execution_count": null,
   "metadata": {
    "type": "sct"
   },
   "outputs": [],
   "source": [
    "index_code_contains(\"imread\", failure_msg=\"imreadを用いて画像を読み込んでください。\")\n",
    "index_code_contains(\"sample.jpg\", failure_msg=\"sample.jpgを読み込んでください。\")\n",
    "index_code_contains(\"threshold\", failure_msg=\"thresholdを用いて閾値処理を行ってください。\")\n",
    "index_code_contains(\"THRESH_BINARY\", failure_msg=\"THRESH_BINARYを用いてください。\")\n",
    "index_code_contains(\"img, 100, 255, cv2.THRESH_BINARY\", failure_msg=\"引数の数値が異なります。\")\n",
    "index_code_contains(\"imshow\", failure_msg=\"imshowを用いて画像を表示してください。\")\n",
    "index_code_contains(\"print\", failure_msg=\"printを用いて閾値を出力してください。\")"
   ]
  },
  {
   "cell_type": "code",
   "execution_count": null,
   "metadata": {},
   "outputs": [],
   "source": []
  },
  {
   "cell_type": "markdown",
   "metadata": {
    "courseId": 4050,
    "exerciseId": "SJMdt2LjLxG",
    "important": false,
    "isDL": false,
    "timeoutSecs": 5,
    "type": "code_session_name"
   },
   "source": [
    "### 3.3.2 マスキング"
   ]
  },
  {
   "cell_type": "markdown",
   "metadata": {
    "type": "description"
   },
   "source": [
    "元画像の一部分を別の画像の白で描画された範囲でくり抜いたように表示します。マスキング処理には、白黒のチャンネル数が`1`のマスク用の画像を用意します。マスク用画像の黒い部分で元画像をマスクし、白い部分のみを表示します。マスキング処理は<b style='color: #AA0000'>cv2.bitwise_and()</b>関数を用います。\n",
    "```Python\n",
    "cv2.bitwise_and(元画像データ1, 元画像データ2(元画像データ1と同じで可), mask=マスク用画像)\n",
    "```\n",
    "```Python\n",
    "import numpy as np\n",
    "import cv2\n",
    "\n",
    "# 元画像を読み込みます\n",
    "img = cv2.imread(\"./4050_data_cleansing_data/sample.jpg\")\n",
    "\n",
    "# マスク用画像を、第二引数に0を指定してチャンネル数が1の画像（グレースケール画像）に変換して読み込みます\n",
    "mask = cv2.imread(\"./4050_cleansing_data/mask.png\", 0)\n",
    "\n",
    "# マスク用画像を、元画像と同じサイズにリサイズします\n",
    "mask = cv2.resize(mask, (img.shape[1], img.shape[0]))\n",
    "\n",
    "# 第三引数にマスク用画像を指定してマスキングします\n",
    "my_img = cv2.bitwise_and(img, img, mask = mask)\n",
    "\n",
    "cv2.imshow(\"sample\", my_img)\n",
    "```\n",
    "***\n",
    "上のサンプルコードで使用しているマスク用画像（mask.png）です。\n",
    "<img src=\"https://aidemyexcontentspic.blob.core.windows.net/contents-pic/4050_data_cleansing/cleansing_chap3_20.png\" width=\"100px\">"
   ]
  },
  {
   "cell_type": "markdown",
   "metadata": {},
   "source": [
    "#### 問題"
   ]
  },
  {
   "cell_type": "markdown",
   "metadata": {
    "type": "question"
   },
   "source": [
    "- sample.jpgを、mask.pngの黒い部分のみを表示するようマスキングしてください 。"
   ]
  },
  {
   "cell_type": "code",
   "execution_count": null,
   "metadata": {
    "type": "index"
   },
   "outputs": [],
   "source": [
    "import numpy as np\n",
    "import cv2\n",
    "\n",
    "img = cv2.imread(\"./4050_data_cleansing_data/sample.jpg\")\n",
    "mask = cv2.imread(\"./4050_data_cleansing_data/mask.png\", 0)\n",
    "mask = cv2.resize(mask, (img.shape[1], img.shape[0]))\n",
    "\n",
    "# mask.pngの黒い部分のみを表示します（黒の画素数は`0`です）\n",
    "retval, mask = \n",
    "my_img = \n",
    "\n",
    "# 出力\n",
    "cv2.imshow(\"sample\", my_img)"
   ]
  },
  {
   "cell_type": "markdown",
   "metadata": {},
   "source": [
    "#### ヒント"
   ]
  },
  {
   "cell_type": "markdown",
   "metadata": {
    "type": "hint"
   },
   "source": [
    "- マスク用画像の黒い部分を表示することはできないので、`cv2.threshold()`を用いて白黒を反転します。\n",
    "- 白と黒を反転するには`cv2.THRESH_BINARY_INV`を用います。\n",
    "- マスキングには`bitwise_and()`を用います。"
   ]
  },
  {
   "cell_type": "markdown",
   "metadata": {},
   "source": [
    "#### 解答例"
   ]
  },
  {
   "cell_type": "code",
   "execution_count": null,
   "metadata": {
    "type": "answer"
   },
   "outputs": [],
   "source": [
    "import numpy as np\n",
    "import cv2\n",
    "\n",
    "img = cv2.imread(\"./4050_data_cleansing_data/sample.jpg\")\n",
    "mask = cv2.imread(\"./4050_data_cleansing_data/mask.png\", 0)\n",
    "mask = cv2.resize(mask, (img.shape[1], img.shape[0]))\n",
    "\n",
    "# mask.pngの黒い部分のみを表示します（黒の画素数は`0`です）\n",
    "retval, mask = cv2.threshold(mask, 0, 255, cv2.THRESH_BINARY_INV)\n",
    "my_img = cv2.bitwise_and(img, img, mask = mask)\n",
    "\n",
    "# 出力\n",
    "cv2.imshow(\"sample\", my_img)"
   ]
  },
  {
   "cell_type": "code",
   "execution_count": null,
   "metadata": {
    "type": "sct"
   },
   "outputs": [],
   "source": [
    "index_code_contains(\"imread\", failure_msg=\"imreadを用いて画像を読み込んでください。\")\n",
    "index_code_contains(\"sample.jpg\", failure_msg=\"sample.jpgを読み込んでください。\")\n",
    "index_code_contains(\"threshold\", failure_msg=\"thresholdを用いてマスク用画像を反転してください。\")\n",
    "index_code_contains(\"mask, 0, 255, cv2.THRESH_BINARY_INV\", failure_msg=\"閾値処理の数値が異なります。\")\n",
    "index_code_contains(\"bitwise_and\", failure_msg=\"bitwise_andを用いてマスク処理をしてください。\")\n",
    "index_code_contains(\"imshow\", failure_msg=\"imshowを用いて画像を表示してください。\")"
   ]
  },
  {
   "cell_type": "code",
   "execution_count": null,
   "metadata": {},
   "outputs": [],
   "source": []
  },
  {
   "cell_type": "markdown",
   "metadata": {
    "courseId": 4050,
    "exerciseId": "rkQOtnUs8lf",
    "important": false,
    "isDL": false,
    "timeoutSecs": 5,
    "type": "code_session_name"
   },
   "source": [
    "### 3.3.3 ぼかし（平滑化）"
   ]
  },
  {
   "cell_type": "markdown",
   "metadata": {
    "type": "description"
   },
   "source": [
    "画像をぼかすにはいくつかの方法がありますが、その中でもあるピクセル（画素）の周りのn✕n個のピクセルを平均化させてぼかす、ガウシアンフィルタを用いて画像全体をぼかします。ぼかし処理は<b style='color: #AA0000'>cv2.GaussianBlur()</b>関数を用います。\n",
    "```Python\n",
    "cv2.GaussianBlur(画像データ, カーネルサイズ(n, n), 0)\n",
    "```\n",
    "パラメータは以下の通りです。\n",
    "- 第一引数：ぼかし処理を行う元画像ファイル名\n",
    "- 第二引数：カーネルサイズ（n ✕ n の値（nは奇数））\n",
    "- 第三引数：ガウシアンカーネルのx方向の標準偏差（通常は0）\n",
    "\n",
    "カーネルサイズと標準偏差の値を大きくするほど、ぼかしが強くなります。\n",
    "```Python\n",
    "import numpy as np\n",
    "import cv2\n",
    "\n",
    "img = cv2.imread(\"./4050_data_cleansing_data/sample.jpg\")\n",
    "\n",
    "my_img = cv2.GaussianBlur(img, (51, 51), 0)\n",
    "\n",
    "cv2.imshow(\"sample\", my_img)```"
   ]
  },
  {
   "cell_type": "markdown",
   "metadata": {},
   "source": [
    "#### 問題"
   ]
  },
  {
   "cell_type": "markdown",
   "metadata": {
    "type": "question"
   },
   "source": [
    "- 画像にぼかしを施してください。"
   ]
  },
  {
   "cell_type": "code",
   "execution_count": null,
   "metadata": {
    "type": "index"
   },
   "outputs": [],
   "source": [
    "import numpy as np\n",
    "import cv2\n",
    "\n",
    "img = cv2.imread(\"./4050_data_cleansing_data/sample.jpg\")\n",
    "\n",
    "# sample.jpg をぼかしてください\n",
    "my_img = \n",
    "\n",
    "cv2.imshow(\"sample\", my_img)"
   ]
  },
  {
   "cell_type": "markdown",
   "metadata": {},
   "source": [
    "#### ヒント"
   ]
  },
  {
   "cell_type": "markdown",
   "metadata": {
    "type": "hint"
   },
   "source": [
    "- 画像をぼかすには`cv2.GaussianBlur()` 関数を用います。"
   ]
  },
  {
   "cell_type": "markdown",
   "metadata": {},
   "source": [
    "#### 解答例"
   ]
  },
  {
   "cell_type": "code",
   "execution_count": null,
   "metadata": {
    "type": "answer"
   },
   "outputs": [],
   "source": [
    "import numpy as np\n",
    "import cv2\n",
    "\n",
    "img = cv2.imread(\"./4050_data_cleansing_data/sample.jpg\")\n",
    "\n",
    "# sample.jpg をぼかしてください\n",
    "my_img = cv2.GaussianBlur(img, (101, 101), 0)\n",
    "\n",
    "cv2.imshow(\"sample\", my_img)"
   ]
  },
  {
   "cell_type": "code",
   "execution_count": null,
   "metadata": {
    "type": "sct"
   },
   "outputs": [],
   "source": [
    "index_code_contains(\"imread\", failure_msg=\"imreadを用いて画像を読み込んでください。\")\n",
    "index_code_contains(\"sample.jpg\", failure_msg=\"sample.jpgを読み込んでください。\")\n",
    "index_code_contains(\"GaussianBlur\", failure_msg=\"GaussianBlurを用いてぼかし処理をしてください。\")\n",
    "index_code_contains(\"imshow\", failure_msg=\"imshowを用いて画像を表示してください。\")"
   ]
  },
  {
   "cell_type": "markdown",
   "metadata": {},
   "source": [
    "***"
   ]
  },
  {
   "cell_type": "markdown",
   "metadata": {
    "courseId": 4050,
    "exerciseId": "r14dt38iLlz",
    "important": false,
    "isDL": false,
    "timeoutSecs": 5,
    "type": "quiz_session_name"
   },
   "source": [
    "### 3.3.4 ノイズの除去"
   ]
  },
  {
   "cell_type": "markdown",
   "metadata": {
    "type": "description"
   },
   "source": [
    "カラー画像のノイズを除去するには<b style='color: #AA0000'>cv2.fastNlMeansDenoisingColored()</b>関数を用い、グレースケール画像のノイズ除去には<b style='color: #AA0000'>cv2.fastNlMeansDenoising()</b>関数を用います。\n",
    "```Python\n",
    "# カラー画像\n",
    "cv2.fastNlMeansDenoisingColored(画像データ)\n",
    "# グレースケール画像\n",
    "cv2.fastNlMeansDenoising(画像データ)\n",
    "```\n",
    "```Python\n",
    "import numpy as np\n",
    "import cv2\n",
    "\n",
    "img = cv2.imread(\"./4050_data_cleansing_data/sample.jpg\")\n",
    "\n",
    "my_img = cv2.fastNlMeansDenoisingColored(img)\n",
    "\n",
    "cv2.imshow(\"sample\", my_img)\n",
    "```\n",
    "出力結果\n",
    "<img src=\"https://aidemyexstorage.blob.core.windows.net/aidemycontents/1555066229082593.jpg\" alt=\"ノイズ出力結果\">\n",
    "拡大してみると、特に顔にかかっているノイズや白のシャツのノイズが除去されていることが分かりやすく確認できます。"
   ]
  },
  {
   "cell_type": "markdown",
   "metadata": {},
   "source": [
    "#### 問題"
   ]
  },
  {
   "cell_type": "markdown",
   "metadata": {
    "type": "question"
   },
   "source": [
    "- カラー画像のノイズを除去する関数はどれでしょうか。"
   ]
  },
  {
   "cell_type": "markdown",
   "metadata": {
    "type": "choices"
   },
   "source": [
    "- `fastNlMeansNoisingColored`\n",
    "- `fastNlMeansDenoisingColored`\n",
    "- `fastNlMeansNoisingDeColored`\n",
    "- `fastNlMeansDenoisingDeColored`"
   ]
  },
  {
   "cell_type": "markdown",
   "metadata": {},
   "source": [
    "#### ヒント"
   ]
  },
  {
   "cell_type": "markdown",
   "metadata": {
    "type": "hint"
   },
   "source": [
    "- ノイズ処理は`Denoising`です。"
   ]
  },
  {
   "cell_type": "markdown",
   "metadata": {},
   "source": [
    "#### 解答"
   ]
  },
  {
   "cell_type": "markdown",
   "metadata": {
    "collapsed": true,
    "type": "answer"
   },
   "source": [
    "- `fastNlMeansDenoisingColored`"
   ]
  },
  {
   "cell_type": "markdown",
   "metadata": {},
   "source": [
    "***"
   ]
  },
  {
   "cell_type": "markdown",
   "metadata": {
    "courseId": 4050,
    "exerciseId": "SJSdKhUiIgG",
    "important": false,
    "isDL": false,
    "timeoutSecs": 5,
    "type": "code_session_name"
   },
   "source": [
    "### 3.3.5 膨張・収縮"
   ]
  },
  {
   "cell_type": "markdown",
   "metadata": {
    "type": "description"
   },
   "source": [
    "<a href='/courses/4050/exercises/r14dt38iLlz' target='_blank'>3.3.4 ノイズの除去</a>ではノンローカルミーンフィルタ（Non-local Means Filter）によりカラー画像とグレースケール画像のノイズ除去を行いましたが、膨張・収縮処理によってもノイズを取り除くことが可能です。膨張と収縮は主に二値画像で用いられることが多い手法で、膨張はあるピクセルを中心とし、フィルタ内の最大値（=白）をその中心の値にします。逆に収縮は最小値（=黒）をその中心の値とします。フィルタは、中心のピクセルの上下左右4つを用いる方法と、自身を囲む8つを用いる方法の2通りが主です。<br>\n",
    "膨張は<b style='color: #AA0000'>cv2.dilate()</b>関数を、収縮は<b style='color: #AA0000'>cv2.erode()</b>関数を用います。\n",
    "```Python\n",
    "# 膨張\n",
    "cv2.dilate(画像データ, フィルタ)\n",
    "# 収縮\n",
    "cv2.erode(画像データ, フィルタ)\n",
    "```\n",
    "パラメータは以下の通りです。\n",
    "- 第一引数：元画像ファイル名\n",
    "- 第二引数：フィルタ（カーネルサイズ）\n",
    "\n",
    "フィルタの指定はnumpyのndarray型の配列とタプル、どちらでも構いません。\n",
    "```Python\n",
    "# グレースケールで読み込み\n",
    "img = cv2.imread(\"./4050_data_cleansing_data/sample.jpg\", 0)\n",
    "\n",
    "# 二値画像に変換\n",
    "retval, img = cv2.threshold(img, 127, 255, cv2.THRESH_BINARY)\n",
    "\n",
    "# フィルタの定義\n",
    "filt = np.array([[0, 1, 0],\n",
    "                [1, 0, 1],\n",
    "                [0, 1, 0]], np.uint8)\n",
    "# filt = np.ones((3, 3), np.uint8) でもOK\n",
    "\n",
    "# 膨張\n",
    "my_img = cv2.dilate(img, filt)\n",
    "\n",
    "cv2.imshow(\"sample\", my_img)\n",
    "```\n",
    "`np.uint8`はデータの型を表しており、8ビットで表される符号なしの整数型です。詳しくは<a href='/courses/4050/exercises/rk6vt2LsUgG' target='_blank'>3.2.2 画像の作成と保存</a>で説明しています。<br>\n",
    "<br>\n",
    "例えば、ノイズの入った円の画像に対して膨張・収縮処理を行うと以下のようになります。\n",
    "\n",
    "<img src=\"https://aidemyexstorage.blob.core.windows.net/aidemycontents/155929367874492.png\" alt=\"収縮,膨張処理例\">"
   ]
  },
  {
   "cell_type": "markdown",
   "metadata": {},
   "source": [
    "#### 問題 "
   ]
  },
  {
   "cell_type": "markdown",
   "metadata": {
    "type": "question"
   },
   "source": [
    "- sample.jpgファイルを説明文と同じフィルタを用いて収縮してください。"
   ]
  },
  {
   "cell_type": "code",
   "execution_count": null,
   "metadata": {
    "type": "index"
   },
   "outputs": [],
   "source": [
    "import numpy as np\n",
    "import cv2\n",
    "\n",
    "img = cv2.imread(\"./4050_data_cleansing_data/sample.jpg\", 0)\n",
    "retval, img = cv2.threshold(img, 127, 255, cv2.THRESH_BINARY)\n",
    "\n",
    "# フィルタを定義してください\n",
    "filt = \n",
    "\n",
    "\n",
    "\n",
    "# 収縮してください\n",
    "my_img = \n",
    "\n",
    "# 表示\n",
    "cv2.imshow(\"sample\", my_img)\n",
    "# 比較のため元の写真も表示\n",
    "cv2.imshow(\"original\", img)"
   ]
  },
  {
   "cell_type": "markdown",
   "metadata": {},
   "source": [
    "#### ヒント"
   ]
  },
  {
   "cell_type": "markdown",
   "metadata": {
    "type": "hint"
   },
   "source": [
    "- 画像を収縮するには`cv2.erode()`関数を用います。"
   ]
  },
  {
   "cell_type": "markdown",
   "metadata": {},
   "source": [
    "#### 解答例"
   ]
  },
  {
   "cell_type": "code",
   "execution_count": null,
   "metadata": {
    "type": "answer"
   },
   "outputs": [],
   "source": [
    "import numpy as np\n",
    "import cv2\n",
    "\n",
    "img = cv2.imread(\"./4050_data_cleansing_data/sample.jpg\", 0)\n",
    "retval, img = cv2.threshold(img, 127, 255, cv2.THRESH_BINARY)\n",
    "\n",
    "# フィルタを定義してください\n",
    "filt = np.array([[0, 1, 0],\n",
    "                [1, 0, 1],\n",
    "                [0, 1, 0]], np.uint8)\n",
    "\n",
    "# 収縮してください\n",
    "my_img = cv2.erode(img, filt)\n",
    "\n",
    "# 表示\n",
    "cv2.imshow(\"sample\", my_img)\n",
    "# 比較のため元の写真も表示\n",
    "cv2.imshow(\"original\", img)"
   ]
  },
  {
   "cell_type": "code",
   "execution_count": null,
   "metadata": {
    "type": "sct"
   },
   "outputs": [],
   "source": [
    "index_code_contains(\"imread\", failure_msg=\"imreadを用いて画像を読み込んでください。\")\n",
    "index_code_contains(\"sample.jpg\", failure_msg=\"sample.jpgを読み込んでください。\")\n",
    "index_code_contains(\"erode\", failure_msg=\"erodeを用いて収縮してください。\")\n",
    "index_code_contains(\"\\[\\[0,1,0], \\[1,0,1], \\[0,1,0]]\", failure_msg=\"フィルタが異なります。\")\n",
    "index_code_contains(\"imshow\", failure_msg=\"imshowを用いて画像を表示してください。\")"
   ]
  },
  {
   "cell_type": "markdown",
   "metadata": {},
   "source": [
    "***"
   ]
  },
  {
   "cell_type": "markdown",
   "metadata": {
    "type": "chapter_exam"
   },
   "source": [
    "## 3.4 まとめ問題（提出不要）"
   ]
  },
  {
   "cell_type": "markdown",
   "metadata": {
    "type": "description"
   },
   "source": [
    "画像処理の問題を解いていただきます。"
   ]
  },
  {
   "cell_type": "markdown",
   "metadata": {},
   "source": [
    "#### 問題"
   ]
  },
  {
   "cell_type": "markdown",
   "metadata": {
    "type": "question"
   },
   "source": [
    "- 以下のコメントアウトの処理を行ってください"
   ]
  },
  {
   "cell_type": "code",
   "execution_count": null,
   "metadata": {
    "type": "index"
   },
   "outputs": [],
   "source": [
    "import cv2\n",
    "import numpy as np\n",
    "\n",
    "\n",
    "img = cv2.imread(\"./4050_data_cleansing_data/sample.jpg\")\n",
    "# オリジナル\n",
    "cv2.imshow('Original', img)\n",
    "\n",
    "# ぼかし処理を作成して下さい。(第二引数は77, 77を指定してください。)\n",
    "blur_img = \n",
    "cv2.imshow('Blur', blur_img)\n",
    "\n",
    "# 画像の色を反転させてください。\n",
    "bit_img = \n",
    "cv2.imshow('Bit', bit_img)\n",
    "\n",
    "# 閾値処理をしてください。(閾値を90にし、それ以下を変更なし, それ以上を０にしてください。)\n",
    "retval, thre_img = \n",
    "cv2.imshow('THRESH', thre_img)"
   ]
  },
  {
   "cell_type": "markdown",
   "metadata": {},
   "source": [
    "#### ヒント"
   ]
  },
  {
   "cell_type": "markdown",
   "metadata": {
    "type": "hint"
   },
   "source": [
    "このチャプターで学んだことを復習しましょう。"
   ]
  },
  {
   "cell_type": "markdown",
   "metadata": {},
   "source": [
    "#### 解答例"
   ]
  },
  {
   "cell_type": "code",
   "execution_count": null,
   "metadata": {
    "type": "answer"
   },
   "outputs": [],
   "source": [
    "import cv2\n",
    "import numpy as np\n",
    "\n",
    "\n",
    "img = cv2.imread(\"./4050_data_cleansing_data/sample.jpg\")\n",
    "# オリジナル\n",
    "cv2.imshow('Original', img)\n",
    "\n",
    "# ぼかし処理を作成して下さい。(第二引数は77, 77を指定してください。)\n",
    "blur_img = cv2.GaussianBlur(img, (77, 77), 0)\n",
    "cv2.imshow('Blur', blur_img)\n",
    "\n",
    "# 画像の色を反転させてください。\n",
    "bit_img = cv2.bitwise_not(img)\n",
    "cv2.imshow('Bit', bit_img)\n",
    "\n",
    "# 閾値処理をしてください。(閾値を90にし、それ以下を変更なし, それ以上を０にしてください。)\n",
    "retval, thre_img = cv2.threshold(img, 90, 255, cv2.THRESH_TOZERO_INV)\n",
    "cv2.imshow('THRESH', thre_img)\n"
   ]
  },
  {
   "cell_type": "markdown",
   "metadata": {
    "type": "commentary"
   },
   "source": []
  },
  {
   "cell_type": "markdown",
   "metadata": {},
   "source": [
    "***"
   ]
  }
 ],
 "metadata": {
  "celltoolbar": "Edit Metadata",
  "kernelspec": {
   "display_name": "Python 3",
   "language": "python",
   "name": "python3"
  },
  "language_info": {
   "codemirror_mode": {
    "name": "ipython",
    "version": 3
   },
   "file_extension": ".py",
   "mimetype": "text/x-python",
   "name": "python",
   "nbconvert_exporter": "python",
   "pygments_lexer": "ipython3",
   "version": "3.6.9"
  },
  "toc": {
   "base_numbering": 1,
   "nav_menu": {},
   "number_sections": true,
   "sideBar": true,
   "skip_h1_title": false,
   "title_cell": "Table of Contents",
   "title_sidebar": "Contents",
   "toc_cell": false,
   "toc_position": {
    "height": "calc(100% - 180px)",
    "left": "10px",
    "top": "150px",
    "width": "304.797px"
   },
   "toc_section_display": true,
   "toc_window_display": true
  },
  "varInspector": {
   "cols": {
    "lenName": 16,
    "lenType": 16,
    "lenVar": 40
   },
   "kernels_config": {
    "python": {
     "delete_cmd_postfix": "",
     "delete_cmd_prefix": "del ",
     "library": "var_list.py",
     "varRefreshCmd": "print(var_dic_list())"
    },
    "r": {
     "delete_cmd_postfix": ") ",
     "delete_cmd_prefix": "rm(",
     "library": "var_list.r",
     "varRefreshCmd": "cat(var_dic_list()) "
    }
   },
   "types_to_exclude": [
    "module",
    "function",
    "builtin_function_or_method",
    "instance",
    "_Feature"
   ],
   "window_display": false
  }
 },
 "nbformat": 4,
 "nbformat_minor": 2
}
