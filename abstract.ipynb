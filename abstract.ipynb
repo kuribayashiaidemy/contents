{
 "cells": [
  {
   "cell_type": "markdown",
   "metadata": {
    "type": "course_title"
   },
   "source": [
    "データクレンジング"
   ]
  },
  {
   "cell_type": "markdown",
   "metadata": {
    "type": "course_description_head"
   },
   "source": [
    "コース概要"
   ]
  },
  {
   "cell_type": "markdown",
   "metadata": {
    "type": "course_description"
   },
   "source": [
    "データクレンジングとは、機械学習モデルにデータを読み込ませるために、データの欠損値や画像の前処置を行う手法です。CSVデータの扱い方や欠損値の処理、OpenCVを用いた画像加工の方法などを押さえましょう。"
   ]
  },
  {
   "cell_type": "markdown",
   "metadata": {
    "type": "course_number_head"
   },
   "source": [
    "コース番号"
   ]
  },
  {
   "cell_type": "markdown",
   "metadata": {
    "type": "course_number"
   },
   "source": [
    "4050"
   ]
  },
  {
   "cell_type": "markdown",
   "metadata": {
    "type": "teacher_ids_head"
   },
   "source": [
    "講師ID"
   ]
  },
  {
   "cell_type": "markdown",
   "metadata": {
    "type": "teacher_ids"
   },
   "source": []
  },
  {
   "cell_type": "markdown",
   "metadata": {
    "type": "course_infomation_head"
   },
   "source": [
    "コース情報"
   ]
  },
  {
   "cell_type": "markdown",
   "metadata": {
    "type": "course_level_head"
   },
   "source": [
    "難易度（1〜4：数字大＝難しい）"
   ]
  },
  {
   "cell_type": "markdown",
   "metadata": {
    "type": "course_level"
   },
   "source": [
    "1"
   ]
  },
  {
   "cell_type": "markdown",
   "metadata": {
    "type": "course_duration_head"
   },
   "source": [
    "見込み履修時間"
   ]
  },
  {
   "cell_type": "markdown",
   "metadata": {
    "type": "course_duration"
   },
   "source": [
    "2.5時間"
   ]
  },
  {
   "cell_type": "markdown",
   "metadata": {
    "type": "course_lang_head"
   },
   "source": [
    "形式言語（コンピューターが読むための言語）"
   ]
  },
  {
   "cell_type": "markdown",
   "metadata": {
    "type": "course_lang"
   },
   "source": [
    "Python"
   ]
  },
  {
   "cell_type": "markdown",
   "metadata": {
    "type": "subcategories_head"
   },
   "source": [
    "タグ（参照：aidemy-contents/parser/lib/categories.csv)"
   ]
  },
  {
   "cell_type": "markdown",
   "metadata": {
    "type": "subcategories"
   },
   "source": [
    "- 入門＜データの操作＞\n",
    "- データの前処理\n",
    "- 画像の操作"
   ]
  },
  {
   "cell_type": "markdown",
   "metadata": {
    "type": "keywords_head"
   },
   "source": [
    "登場キーワード"
   ]
  },
  {
   "cell_type": "markdown",
   "metadata": {
    "type": "keywords"
   },
   "source": [
    "- 無名関数（lambda）\n",
    "- リスト内包表記\n",
    "- 平均値代入法\n",
    "- 高階関数"
   ]
  },
  {
   "cell_type": "markdown",
   "metadata": {
    "type": "tools_head"
   },
   "source": [
    "使用モジュール"
   ]
  },
  {
   "cell_type": "markdown",
   "metadata": {
    "type": "tools"
   },
   "source": [
    "- Pandas\n",
    "- NumPy\n",
    "- Matplotlib\n",
    "- OpenCV"
   ]
  },
  {
   "cell_type": "markdown",
   "metadata": {
    "type": "release_date_head"
   },
   "source": [
    "公開日"
   ]
  },
  {
   "cell_type": "markdown",
   "metadata": {
    "type": "release_date"
   },
   "source": [
    "2019/01/06"
   ]
  },
  {
   "cell_type": "markdown",
   "metadata": {
    "type": "course_relation_head"
   },
   "source": [
    "関連情報"
   ]
  },
  {
   "cell_type": "markdown",
   "metadata": {
    "type": "course_prepare_must_head"
   },
   "source": [
    "事前の必修コース"
   ]
  },
  {
   "cell_type": "markdown",
   "metadata": {
    "type": "course_prepare_must"
   },
   "source": [
    "- 3010\n",
    "- 4000"
   ]
  },
  {
   "cell_type": "markdown",
   "metadata": {
    "type": "course_prepare_suggestion_head"
   },
   "source": [
    "事前のおすすめコース"
   ]
  },
  {
   "cell_type": "markdown",
   "metadata": {
    "type": "course_prepare_suggestion"
   },
   "source": [
    "- 4010"
   ]
  },
  {
   "cell_type": "markdown",
   "metadata": {
    "type": "course_suggestion_head"
   },
   "source": [
    "次に学びたいコース"
   ]
  },
  {
   "cell_type": "markdown",
   "metadata": {
    "type": "course_suggestion"
   },
   "source": [
    "- 2010\n",
    "- 8000"
   ]
  },
  {
   "cell_type": "markdown",
   "metadata": {
    "type": "course_plan_head"
   },
   "source": [
    "コース種類"
   ]
  },
  {
   "cell_type": "markdown",
   "metadata": {
    "type": "course_plan"
   },
   "source": [
    "正式コース"
   ]
  },
  {
   "cell_type": "markdown",
   "metadata": {
    "type": "course_movielink_head"
   },
   "source": [
    "概要動画リンク"
   ]
  },
  {
   "cell_type": "markdown",
   "metadata": {
    "type": "course_movielink"
   },
   "source": []
  },
  {
   "cell_type": "markdown",
   "metadata": {
    "type": "course_video_id"
   },
   "source": []
  }
 ],
 "metadata": {
  "kernelspec": {
   "display_name": "Python 3",
   "language": "python",
   "name": "python3"
  },
  "language_info": {
   "codemirror_mode": {
    "name": "ipython",
    "version": 3
   },
   "file_extension": ".py",
   "mimetype": "text/x-python",
   "name": "python",
   "nbconvert_exporter": "python",
   "pygments_lexer": "ipython3",
   "version": "3.6.9"
  },
  "toc": {
   "base_numbering": 1,
   "nav_menu": {},
   "number_sections": true,
   "sideBar": true,
   "skip_h1_title": false,
   "title_cell": "Table of Contents",
   "title_sidebar": "Contents",
   "toc_cell": false,
   "toc_position": {},
   "toc_section_display": true,
   "toc_window_display": true
  }
 },
 "nbformat": 4,
 "nbformat_minor": 2
}