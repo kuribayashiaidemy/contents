{
 "cells": [
  {
   "cell_type": "code",
   "execution_count": null,
   "metadata": {},
   "outputs": [],
   "source": [
    "# plt.show()で可視化されない人はこのセルを実行してください。\n",
    "%matplotlib inline"
   ]
  },
  {
   "cell_type": "markdown",
   "metadata": {
    "type": "final_exam"
   },
   "source": [
    "# 総合添削問題"
   ]
  },
  {
   "cell_type": "markdown",
   "metadata": {
    "type": "description"
   },
   "source": [
    "機械学習における画像認識では、画像データとその画像に紐づけられたラベルの組み合わせが大量に必要となります。しかしながら、機械学習の入力とするには十分な数の画像とラベルの組み合わせを用意する事は、コストがかかるため困難なことであります。\n",
    "そこで、データの個数を十分量に増やす際に行われるテクニックとして、**画像の水増し**があります。\n",
    "\n",
    "画像の水増しといっても、ただ単にデータをコピーして量を増やすだけでは意味がありません。<br>\n",
    "そこで、例えば画像を反転したり、ずらしたりして新たなデータを作り出します。ここでは、主にChapter3で学んだ様々な関数を駆使して画像を水増しする関数を作成してもらいます。"
   ]
  },
  {
   "cell_type": "markdown",
   "metadata": {},
   "source": [
    "#### 問題"
   ]
  },
  {
   "cell_type": "markdown",
   "metadata": {
    "type": "question"
   },
   "source": [
    "- 画像を受け取ったら5つの方法で加工した画像データを作成し、まとめて配列にして返す関数`scratch_image`関数を作成して下さい。\n",
    "```python\n",
    "def scratch_image(img, flip=True, thr=True, filt=True, resize=True, erode=True):\n",
    "    \n",
    "    # 水増しの手法を配列にまとめる\n",
    "    methods = [flip, thr, filt, resize, erode]\n",
    "    \n",
    "    \"\"\"\n",
    "    flip は画像の左右反転\n",
    "    thr  は閾値処理\n",
    "    filt はぼかし\n",
    "    resizeはモザイク\n",
    "    erode は収縮\n",
    "        をするorしないを指定している\n",
    "        \n",
    "    imgの型はOpenCVのcv2.read()によって読み込まれた画像データの型\n",
    "    \n",
    "    水増しした画像データを配列にまとめて返す\n",
    "    \"\"\"\n",
    "```\n",
    "\n",
    "\n",
    "- 加工の方法は重ねあわせます。たとえば`flip=True, thr=True, filt=False, resize=False, erode=False`ならば画像の反転と閾値処理を行うので\n",
    "    1. オリジナルの画像\n",
    "    2. 左右反転した画像\n",
    "    3. 閾値処理を行った画像\n",
    "    4. 左右反転して閾値処理した画像\n",
    "    \n",
    "  と、四枚の画像データが配列にまとめられて返されます。\n",
    "- 全て`True`ならば $2^5 = 32$ 枚の画像データが返されます。\n",
    "- 作成した`scratch_image`関数を使ってcleansing_dataフォルダ内の画像データ（`cat_sample.png`）を水増しし、`scratch_images`フォルダに保存して下さい。\n",
    "- 各手法の仕様は以下のようにして下さい。\n",
    "    1. 反転: 左右で反転\n",
    "    2. 閾値処理: 閾値100, しきい値より大きい値はそのまま、小さい値は0にする\n",
    "    3. ぼかし: 自分自身のまわりの$5 \\times 5$個のピクセルを用いる\n",
    "    4. モザイク: 解像度を$1/5$にする\n",
    "    5. 収縮: 自身を囲む8ピクセルを用いる"
   ]
  },
  {
   "cell_type": "markdown",
   "metadata": {},
   "source": [
    "<div style=\"text-align: center;\">\n",
    "    <span style=\"font-size: 120%\">flipとthrのみTrueだった場合の例</span>\n",
    "</div>\n",
    "<img src = \"https://aidemyexstorage.blob.core.windows.net/aidemycontents/1539254347176308.png\t\" width=\"800px\">"
   ]
  },
  {
   "cell_type": "code",
   "execution_count": null,
   "metadata": {
    "collapsed": true,
    "type": "index"
   },
   "outputs": [],
   "source": [
    "import os\n",
    "\n",
    "import numpy as np\n",
    "import matplotlib.pyplot as plt\n",
    "import cv2\n",
    "\n",
    "# \n",
    "def scratch_image(img, flip=True, thr=True, filt=True, resize=True, erode=True):\n",
    "    # 水増しの手法を配列にまとめる\n",
    "    methods = [flip, thr, filt, resize, erode]\n",
    "        \n",
    "    # flip は画像の左右反転\n",
    "    # thr  は閾値処理\n",
    "    # filt はぼかし\n",
    "    # resizeはモザイク\n",
    "    # erode は縮小\n",
    "    #     をするorしないを指定している\n",
    "    # \n",
    "    # imgの型はOpenCVのcv2.read()によって読み込まれた画像データの型\n",
    "    # \n",
    "    # 水増しした画像データを配列にまとめて返す\n",
    "    \n",
    "    # 画像のサイズを習得、ぼかしに使うフィルターの作成\n",
    "    img_size = img.shape\n",
    "    filter1 = np.ones((3, 3))\n",
    "    # オリジナルの画像データを配列に格納\n",
    "    images = [img]\n",
    "    \n",
    "    \n",
    "    # ----------------------------ここから書いて下さい----------------------------\n",
    "    # 手法に用いる関数\n",
    "    scratch = np.array([\n",
    "       \n",
    "        #画像の左右反転のlambda関数を書いてください\n",
    "        lambda x: \n",
    "        \n",
    "        #閾値処理のlambda関数を書いてください\n",
    "        lambda x:\n",
    "        \n",
    "        #ぼかしのlambda関数を書いてください\n",
    "        lambda x:\n",
    "        \n",
    "        #モザイク処理のlambda関数を書いてください\n",
    "        lambda x:\n",
    "        \n",
    "        #縮小するlambda関数を書いてください\n",
    "        lambda x:\n",
    "        \n",
    "    ])\n",
    "    \n",
    "    # 関数と画像を引数に、加工した画像を元と合わせて水増しする関数\n",
    "    doubling_images = lambda f, imag: (imag + [f(i) for i in imag])\n",
    "    \n",
    "    # doubling_imagesを用いてmethodsがTrueの関数で水増ししてください\n",
    "    for func in scratch[methods]:\n",
    "        images = \n",
    "    \n",
    "    return images\n",
    "    \n",
    "    # ----------------------------ここまで書いて下さい----------------------------\n",
    "\n",
    "\n",
    "# 画像の読み込み\n",
    "cat_img = cv2.imread(\"./cleansing_data/cat_sample.jpg\")\n",
    "\n",
    "# 画像の水増し\n",
    "scratch_cat_images = scratch_image(cat_img)\n",
    "\n",
    "# 画像を保存するフォルダーを作成\n",
    "if not os.path.exists(\"scratch_images\"):\n",
    "    os.mkdir(\"scratch_images\")\n",
    "\n",
    "for num, im in enumerate(scratch_cat_images):\n",
    "    # まず保存先のディレクトリ\"scratch_images/\"を指定、番号を付けて保存\n",
    "    cv2.imwrite(\"scratch_images/\" + str(num) + \".jpg\" ,im) "
   ]
  },
  {
   "cell_type": "markdown",
   "metadata": {},
   "source": [
    "#### ヒント"
   ]
  },
  {
   "cell_type": "markdown",
   "metadata": {
    "type": "hint"
   },
   "source": [
    "- まずはChapter3を参考にして`cv2`のメソッドを記述します。その際に必要となるデータ（画像のサイズなど）も用意します。<br>\n",
    "例えば上下反転する関数は\n",
    "```python\n",
    "lambda x: cv2.flip(x, 0)\n",
    "```\n",
    "と書けます。これを配列`arr`に入れることで\n",
    "```python\n",
    "arr[0](image)\n",
    "```\n",
    "と、indexを指定するだけで`arr`中の所定の関数を使うことができます。\n",
    "- (発展)関数を格納した配列と`flip, thr, filt, resize, erode`を活用して加工に使う関数を取得しましょう。"
   ]
  },
  {
   "cell_type": "markdown",
   "metadata": {},
   "source": [
    "##  解答例"
   ]
  },
  {
   "cell_type": "code",
   "execution_count": 3,
   "metadata": {
    "type": "answer"
   },
   "outputs": [],
   "source": [
    "import os\n",
    "\n",
    "import numpy as np\n",
    "import matplotlib.pyplot as plt\n",
    "import cv2\n",
    "\n",
    "\n",
    "def scratch_image(img, flip=True, thr=True, filt=True, resize=True, erode=True):\n",
    "    # 水増しの手法を配列にまとめる\n",
    "    methods = [flip, thr, filt, resize, erode]\n",
    "    # 画像のサイズを習得、ぼかしに使うフィルターの作成\n",
    "    img_size = img.shape\n",
    "    filter1 = np.ones((3, 3))\n",
    "    # オリジナルの画像データを配列に格納\n",
    "    images = [img]\n",
    "    \n",
    "    # ----------------------------ここから書いて下さい----------------------------\n",
    "    # 手法に用いる関数\n",
    "    scratch = np.array([\n",
    "        lambda x: cv2.flip(x, 1),\n",
    "        lambda x: cv2.threshold(x, 100, 255, cv2.THRESH_TOZERO)[1],\n",
    "        lambda x: cv2.GaussianBlur(x, (5, 5), 0),\n",
    "        lambda x: cv2.resize(cv2.resize(\n",
    "                        x, (img_size[1] // 5, img_size[0] // 5)\n",
    "                    ),(img_size[1], img_size[0])),\n",
    "        lambda x: cv2.erode(x, filter1)\n",
    "    ])\n",
    "    # 関数と画像を引数に、加工した画像を元と合わせて水増しする関数\n",
    "    \n",
    "    doubling_images = lambda f, imag: (imag + [f(i) for i in imag])\n",
    "    # methodsがTrueの関数で水増し\n",
    "    for func in scratch[methods]:\n",
    "        images = doubling_images(func, images)\n",
    "    \n",
    "    return images\n",
    "    # ----------------------------ここまで書いて下さい----------------------------\n",
    "\n",
    "    \n",
    "# 画像の読み込み\n",
    "cat_img = cv2.imread(\"cleansing_data/cat_sample.jpg\")\n",
    "\n",
    "# 画像の水増し\n",
    "scratch_cat_images = scratch_image(cat_img)\n",
    "\n",
    "# 画像を保存するフォルダーを作成\n",
    "if not os.path.exists(\"scratch_images\"):\n",
    "    os.mkdir(\"scratch_images\")\n",
    "\n",
    "for num, im in enumerate(scratch_cat_images):\n",
    "    # まず保存先のディレクトリ\"scratch_images/\"を指定、番号を付けて保存\n",
    "    cv2.imwrite(\"scratch_images/\" + str(num) + \".jpg\" ,im) \n"
   ]
  },
  {
   "cell_type": "markdown",
   "metadata": {},
   "source": [
    "### 解説"
   ]
  },
  {
   "cell_type": "markdown",
   "metadata": {
    "type": "commentary"
   },
   "source": [
    "ヒントの通り、加工のメソッドを`scratch`にまとめます。まとめなくても良いですが、可読性を考えて「まとめる」という処理を意識しました。<br>\n",
    "\n",
    "`doubling_images`では、加工前の画像データを格納した配列`imag`と、メソッド`f`を用いて`imag`を加工した` [f(i) for i in imag]`を連結しています。加工した画像は`imag`中の画像データの数と同じ数できるので、これを連結することで画像データの枚数が倍になっていきます。<br>\n",
    "また、この関数をループして使うので、オリジナルの画像データもこの関数にあう形にするために、一度`images = [img]`として配列に格納しています。\n",
    "\n",
    "`scratch[method]`とすることで、`np.array`のブールインデックス参照により`True`の要素を取り出し、`doubling_images`関数に引数として入れることを可能にしています。\n",
    "\n",
    "どれくらい画像を水増しするかは元の画像がどれほど少ないかにもよりますが、流石にデータ量を32倍にすることはそうそう無いことです。この関数を実装できたならば、水増しの力は十分についたと言えるでしょう。"
   ]
  },
  {
   "cell_type": "markdown",
   "metadata": {},
   "source": [
    "#### 解説（Appendix）"
   ]
  },
  {
   "cell_type": "markdown",
   "metadata": {
    "type": "commentary"
   },
   "source": [
    "可読性が非常に悪いのでおすすめしませんが、リスト内包表記を使うことで水増し段階を一行で書くことができます。\n",
    "```python\n",
    "# 関数の格納\n",
    "sc_flip = [\n",
    "    lambda x: x,  \n",
    "    lambda x: cv2.flip(x, 1)\n",
    "]\n",
    "sc_thr = [\n",
    "    lambda x: x,\n",
    "    lambda x: cv2.threshold(x, 100, 255, cv2.THRESH_TOZERO)[1]\n",
    "]\n",
    "sc_filter = [\n",
    "    lambda x: x,\n",
    "    lambda x: cv2.GaussianBlur(x, (5, 5), 0)\n",
    "]\n",
    "sc_mosaic = [\n",
    "    lambda x: x,\n",
    "    lambda x: cv2.resize(cv2.resize(\n",
    "                    x, (img_size[1] // 5, img_size[0] // 5)\n",
    "                ),(img_size[1], img_size[0]))\n",
    "]\n",
    "sc_erode = [\n",
    "    lambda x: x,\n",
    "    lambda x: cv2.erode(x, filter1)\n",
    "]\n",
    "# 水増し\n",
    "[e(d(c(b(a(img))))) for a in sc_flip for b in sc_thr for c in sc_filter for d in sc_mosaic for e in sc_erode]\n",
    "```"
   ]
  },
  {
   "cell_type": "markdown",
   "metadata": {
    "type": "commentary"
   },
   "source": [
    "`scratch_images`の第三引数に`exp=True/False`を追加し、\n",
    "- `True`ならば処理は変わらず\n",
    "- `False`ならば加工を重ねあわせない（つまり、反転したあとに閾値処理をしたりしない。`method`が`True`の部分の加工をする。最大6枚に水増し）\n",
    "\n",
    "という関数を作成してみるとより実践的です。"
   ]
  },
  {
   "cell_type": "markdown",
   "metadata": {},
   "source": [
    "### 別解"
   ]
  },
  {
   "cell_type": "code",
   "execution_count": null,
   "metadata": {
    "collapsed": true,
    "type": "answer"
   },
   "outputs": [],
   "source": [
    "import sys\n",
    "import os\n",
    "\n",
    "import numpy as np\n",
    "import matplotlib.pyplot as plt\n",
    "import cv2\n",
    "\n",
    "\n",
    "def scratch_image(img, flip=True, thr=True, filt=True, resize=True, erode=True):\n",
    "    # ----------------------------ここから書いて下さい----------------------------\n",
    "    # 水増しの手法を配列にまとめる\n",
    "    methods = [flip, thr, filt, resize, erode]\n",
    "    # 画像のサイズを習得、ぼかしに使うフィルターの作成\n",
    "    img_size = img.shape\n",
    "    filter1 = np.ones((3, 3))\n",
    "    # 手法に用いる関数\n",
    "    scratch = np.array([\n",
    "        lambda x: cv2.flip(x, 1),\n",
    "        lambda x: cv2.threshold(x, 100, 255, cv2.THRESH_TOZERO)[1],\n",
    "        lambda x: cv2.GaussianBlur(x, (5, 5), 0),\n",
    "        lambda x: cv2.resize(cv2.resize(\n",
    "                        x, (img_size[1] // 5, img_size[0] // 5)\n",
    "                    ),(img_size[1], img_size[0])),\n",
    "        lambda x: cv2.erode(x, filter1)\n",
    "    ])\n",
    "    act_scratch = scratch[methods]\n",
    "    \n",
    "    # メソッド準備\n",
    "    act_num = np.sum([methods])\n",
    "    form = \"0\" + str(act_num) + \"b\"\n",
    "    cf = np.array([list(format(i, form)) for i in range(2**act_num)])\n",
    "    \n",
    "    # 画像変換処理実行\n",
    "    images = []\n",
    "    for i in range(2**act_num):\n",
    "        im = img\n",
    "        for func in act_scratch[cf[i]==\"1\"]:  # boolインデックス参照\n",
    "            im = func(im)\n",
    "        images.append(im)\n",
    "    \n",
    "    return images\n",
    "    # ----------------------------ここまで書いて下さい----------------------------\n",
    "\n",
    "    \n",
    "# 画像の読み込み\n",
    "cat_img = cv2.imread(\"./cat_sample.jpg\")\n",
    "\n",
    "# 画像の水増し\n",
    "scratch_cat_images = scratch_image(cat_img, flip=True, thr=False, filt=True, resize=False, erode=True)\n",
    "\n",
    "# 画像を保存するフォルダーを作成\n",
    "if not os.path.exists(\"scratch_images\"):\n",
    "    os.mkdir(\"scratch_images\")\n",
    "\n",
    "for num, im in enumerate(scratch_cat_images):\n",
    "    # まず保存先のディレクトリ\"scratch_images/\"を指定、番号を付けて保存\n",
    "    cv2.imwrite(\"scratch_images/\" + str(num) + \".jpg\" ,im) \n"
   ]
  }
 ],
 "metadata": {
  "celltoolbar": "Edit Metadata",
  "kernelspec": {
   "display_name": "Python 3",
   "language": "python",
   "name": "python3"
  },
  "language_info": {
   "codemirror_mode": {
    "name": "ipython",
    "version": 3
   },
   "file_extension": ".py",
   "mimetype": "text/x-python",
   "name": "python",
   "nbconvert_exporter": "python",
   "pygments_lexer": "ipython3",
   "version": "3.6.9"
  },
  "toc": {
   "base_numbering": 1,
   "nav_menu": {
    "height": "84px",
    "width": "252px"
   },
   "number_sections": false,
   "sideBar": true,
   "skip_h1_title": false,
   "title_cell": "Table of Contents",
   "title_sidebar": "Contents",
   "toc_cell": false,
   "toc_position": {},
   "toc_section_display": "block",
   "toc_window_display": false
  }
 },
 "nbformat": 4,
 "nbformat_minor": 2
}
